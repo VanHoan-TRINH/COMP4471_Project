{
  "nbformat": 4,
  "nbformat_minor": 0,
  "metadata": {
    "colab": {
      "provenance": [],
      "toc_visible": true,
      "collapsed_sections": []
    },
    "kernelspec": {
      "name": "python3",
      "display_name": "Python 3"
    },
    "language_info": {
      "name": "python"
    },
    "gpuClass": "standard",
    "accelerator": "GPU"
  },
  "cells": [
    {
      "cell_type": "markdown",
      "source": [
        "# Papers\n",
        "* EfficientNetV1: https://arxiv.org/abs/1905.11946\n",
        "* EfficientNetV2: https://arxiv.org/abs/2104.00298"
      ],
      "metadata": {
        "id": "6XbQSuxru3r3"
      }
    },
    {
      "cell_type": "markdown",
      "source": [
        "# Setup"
      ],
      "metadata": {
        "id": "r-ZUcob0vB0E"
      }
    },
    {
      "cell_type": "code",
      "source": [
        "import cv2\n",
        "import numpy as np\n",
        "import torch\n",
        "from math import ceil\n",
        "from PIL.Image import Image\n",
        "from torch import nn\n",
        "import matplotlib.pyplot as plt"
      ],
      "metadata": {
        "id": "0A-VV6SSBdzu"
      },
      "execution_count": null,
      "outputs": []
    },
    {
      "cell_type": "markdown",
      "source": [
        "# Prepare data (Kaggle)"
      ],
      "metadata": {
        "id": "BkqtL7Vjv2io"
      }
    },
    {
      "cell_type": "markdown",
      "source": [
        "* Source: https://www.kaggle.com/datasets/shiekhburhan/face-mask-dataset\n",
        "\n",
        "The dataset has a total of 14535 images. It can be primarily used to train face mask classifiers.\n",
        "It consists of 3 classes.\n",
        "a) Incorrect mask b)With mask C) without mask.\n",
        "\n",
        "incorrect masked class consists of 5000 images, of which 2500 are MaskonChin and 2500 are Mask_on _Mouth_Chin.\n",
        "\n",
        "With mask class has 4789 images, of which 4000 are simple with mask and 789 are complex\n",
        "with mask images.\n",
        "\n",
        "without mask has 4746 images, of which 4000 are simple and 746 are complex images.\n",
        "\n",
        "The primary purpose of creating such a dataset is to help a researcher to develop a face mask detection system that can detect almost all types of face masks with different orientations.\n",
        "\n",
        "The various types of images used in the dataset are as follows:\n",
        "\n",
        "* \"MaskOnChin\" images: These are the images in which masks are put on a chin only. The mouth and the nose of a person are visible.\n",
        "* \"MaskOnChinMouth\" images: In this, the mask is covering the chin and the mouth area. The nose of a person is not covered.\n",
        "* \"Simple WithMask\" images:- It consists of data samples of face masks without any texture, logos, etc.\n",
        "* \"Complex WithMask\" images: It includes the images of the sophisticated face masks with textures, logos, or designs printed on them.\n",
        "* \"Simple WithoutMask images: These are images without any occlusion.\n",
        "* \"complex WithoutMask\" images: It consists of faces with occlusion, such as beard, hair, and hands covering the face."
      ],
      "metadata": {
        "id": "8WL0782lIG9p"
      }
    },
    {
      "cell_type": "code",
      "source": [
        "from google.colab import drive\n",
        "drive.mount('/content/drive')"
      ],
      "metadata": {
        "id": "b3bMTIo_F5Ta",
        "colab": {
          "base_uri": "https://localhost:8080/"
        },
        "outputId": "7274e40b-e707-4208-c356-a47d8855579f"
      },
      "execution_count": null,
      "outputs": [
        {
          "output_type": "stream",
          "name": "stdout",
          "text": [
            "Mounted at /content/drive\n"
          ]
        }
      ]
    },
    {
      "cell_type": "code",
      "source": [
        "from pathlib import Path\n",
        "import os\n",
        "import pandas as pd\n",
        "import numpy as np"
      ],
      "metadata": {
        "id": "8tzlB14HuHq0"
      },
      "execution_count": null,
      "outputs": []
    },
    {
      "cell_type": "code",
      "source": [
        "data_dir = \"/content/drive/MyDrive/Colab Notebooks/COMP4471/Project/facemask\""
      ],
      "metadata": {
        "id": "_JxnqEF2F76-"
      },
      "execution_count": null,
      "outputs": []
    },
    {
      "cell_type": "code",
      "source": [
        "with_mask_dir = Path(data_dir+\"/with_mask/simple\")\n",
        "mc_dir = Path(data_dir+\"/incorrect_mask/mc\")\n",
        "mmc_dir = Path(data_dir+\"/incorrect_mask/mmc\")\n",
        "without_mask_dir = Path(data_dir+\"/without_mask/simple\")\n",
        "\n",
        "\n",
        "with_mask = list(with_mask_dir.glob(r'*jpg'))\n",
        "mc = list(mc_dir.glob(r'*jpg'))\n",
        "mmc = list(mmc_dir.glob(r'*jpg'))\n",
        "incorrect_mask = mc+mmc\n",
        "without_mask = list(without_mask_dir.glob(r'*jpg'))\n",
        "\n",
        "len(with_mask), len(incorrect_mask), len(without_mask)"
      ],
      "metadata": {
        "colab": {
          "base_uri": "https://localhost:8080/"
        },
        "id": "tX9WL4z9tDuu",
        "outputId": "4ebe718a-dac7-47b5-81ab-438e796fa13d"
      },
      "execution_count": null,
      "outputs": [
        {
          "output_type": "execute_result",
          "data": {
            "text/plain": [
              "(4000, 5000, 4000)"
            ]
          },
          "metadata": {},
          "execution_count": 5
        }
      ]
    },
    {
      "cell_type": "code",
      "source": [
        "def generate_df(image_dir, label):\n",
        "    filepath = pd.Series(image_dir, name='Filepath').astype(str)\n",
        "    labels = pd.Series(label, name='Label', index=filepath.index).astype(str)\n",
        "    df = pd.concat([filepath, labels], axis=1)\n",
        "    return df"
      ],
      "metadata": {
        "id": "XwmJnhDa6qO9"
      },
      "execution_count": null,
      "outputs": []
    },
    {
      "cell_type": "code",
      "source": [
        "with_mask_df = generate_df(with_mask, label=0)\n",
        "incorrect_mask_df = generate_df(incorrect_mask, label=1)\n",
        "without_mask_df = generate_df(without_mask, label=2)\n",
        "total_df = pd.concat([with_mask_df, incorrect_mask_df, without_mask_df], axis=0).sample(frac=1.0, random_state=1).reset_index(drop=True)\n",
        "total_df.head()"
      ],
      "metadata": {
        "colab": {
          "base_uri": "https://localhost:8080/",
          "height": 206
        },
        "id": "NkwhdGvq6_30",
        "outputId": "9db6f295-a20b-419b-a4c1-a326095ff64c"
      },
      "execution_count": null,
      "outputs": [
        {
          "output_type": "execute_result",
          "data": {
            "text/plain": [
              "                                            Filepath Label\n",
              "0  /content/drive/MyDrive/Colab Notebooks/COMP447...     0\n",
              "1  /content/drive/MyDrive/Colab Notebooks/COMP447...     2\n",
              "2  /content/drive/MyDrive/Colab Notebooks/COMP447...     1\n",
              "3  /content/drive/MyDrive/Colab Notebooks/COMP447...     0\n",
              "4  /content/drive/MyDrive/Colab Notebooks/COMP447...     1"
            ],
            "text/html": [
              "\n",
              "  <div id=\"df-bdf3fa21-5a09-45e1-873e-2ba9f1e3a3ef\">\n",
              "    <div class=\"colab-df-container\">\n",
              "      <div>\n",
              "<style scoped>\n",
              "    .dataframe tbody tr th:only-of-type {\n",
              "        vertical-align: middle;\n",
              "    }\n",
              "\n",
              "    .dataframe tbody tr th {\n",
              "        vertical-align: top;\n",
              "    }\n",
              "\n",
              "    .dataframe thead th {\n",
              "        text-align: right;\n",
              "    }\n",
              "</style>\n",
              "<table border=\"1\" class=\"dataframe\">\n",
              "  <thead>\n",
              "    <tr style=\"text-align: right;\">\n",
              "      <th></th>\n",
              "      <th>Filepath</th>\n",
              "      <th>Label</th>\n",
              "    </tr>\n",
              "  </thead>\n",
              "  <tbody>\n",
              "    <tr>\n",
              "      <th>0</th>\n",
              "      <td>/content/drive/MyDrive/Colab Notebooks/COMP447...</td>\n",
              "      <td>0</td>\n",
              "    </tr>\n",
              "    <tr>\n",
              "      <th>1</th>\n",
              "      <td>/content/drive/MyDrive/Colab Notebooks/COMP447...</td>\n",
              "      <td>2</td>\n",
              "    </tr>\n",
              "    <tr>\n",
              "      <th>2</th>\n",
              "      <td>/content/drive/MyDrive/Colab Notebooks/COMP447...</td>\n",
              "      <td>1</td>\n",
              "    </tr>\n",
              "    <tr>\n",
              "      <th>3</th>\n",
              "      <td>/content/drive/MyDrive/Colab Notebooks/COMP447...</td>\n",
              "      <td>0</td>\n",
              "    </tr>\n",
              "    <tr>\n",
              "      <th>4</th>\n",
              "      <td>/content/drive/MyDrive/Colab Notebooks/COMP447...</td>\n",
              "      <td>1</td>\n",
              "    </tr>\n",
              "  </tbody>\n",
              "</table>\n",
              "</div>\n",
              "      <button class=\"colab-df-convert\" onclick=\"convertToInteractive('df-bdf3fa21-5a09-45e1-873e-2ba9f1e3a3ef')\"\n",
              "              title=\"Convert this dataframe to an interactive table.\"\n",
              "              style=\"display:none;\">\n",
              "        \n",
              "  <svg xmlns=\"http://www.w3.org/2000/svg\" height=\"24px\"viewBox=\"0 0 24 24\"\n",
              "       width=\"24px\">\n",
              "    <path d=\"M0 0h24v24H0V0z\" fill=\"none\"/>\n",
              "    <path d=\"M18.56 5.44l.94 2.06.94-2.06 2.06-.94-2.06-.94-.94-2.06-.94 2.06-2.06.94zm-11 1L8.5 8.5l.94-2.06 2.06-.94-2.06-.94L8.5 2.5l-.94 2.06-2.06.94zm10 10l.94 2.06.94-2.06 2.06-.94-2.06-.94-.94-2.06-.94 2.06-2.06.94z\"/><path d=\"M17.41 7.96l-1.37-1.37c-.4-.4-.92-.59-1.43-.59-.52 0-1.04.2-1.43.59L10.3 9.45l-7.72 7.72c-.78.78-.78 2.05 0 2.83L4 21.41c.39.39.9.59 1.41.59.51 0 1.02-.2 1.41-.59l7.78-7.78 2.81-2.81c.8-.78.8-2.07 0-2.86zM5.41 20L4 18.59l7.72-7.72 1.47 1.35L5.41 20z\"/>\n",
              "  </svg>\n",
              "      </button>\n",
              "      \n",
              "  <style>\n",
              "    .colab-df-container {\n",
              "      display:flex;\n",
              "      flex-wrap:wrap;\n",
              "      gap: 12px;\n",
              "    }\n",
              "\n",
              "    .colab-df-convert {\n",
              "      background-color: #E8F0FE;\n",
              "      border: none;\n",
              "      border-radius: 50%;\n",
              "      cursor: pointer;\n",
              "      display: none;\n",
              "      fill: #1967D2;\n",
              "      height: 32px;\n",
              "      padding: 0 0 0 0;\n",
              "      width: 32px;\n",
              "    }\n",
              "\n",
              "    .colab-df-convert:hover {\n",
              "      background-color: #E2EBFA;\n",
              "      box-shadow: 0px 1px 2px rgba(60, 64, 67, 0.3), 0px 1px 3px 1px rgba(60, 64, 67, 0.15);\n",
              "      fill: #174EA6;\n",
              "    }\n",
              "\n",
              "    [theme=dark] .colab-df-convert {\n",
              "      background-color: #3B4455;\n",
              "      fill: #D2E3FC;\n",
              "    }\n",
              "\n",
              "    [theme=dark] .colab-df-convert:hover {\n",
              "      background-color: #434B5C;\n",
              "      box-shadow: 0px 1px 3px 1px rgba(0, 0, 0, 0.15);\n",
              "      filter: drop-shadow(0px 1px 2px rgba(0, 0, 0, 0.3));\n",
              "      fill: #FFFFFF;\n",
              "    }\n",
              "  </style>\n",
              "\n",
              "      <script>\n",
              "        const buttonEl =\n",
              "          document.querySelector('#df-bdf3fa21-5a09-45e1-873e-2ba9f1e3a3ef button.colab-df-convert');\n",
              "        buttonEl.style.display =\n",
              "          google.colab.kernel.accessAllowed ? 'block' : 'none';\n",
              "\n",
              "        async function convertToInteractive(key) {\n",
              "          const element = document.querySelector('#df-bdf3fa21-5a09-45e1-873e-2ba9f1e3a3ef');\n",
              "          const dataTable =\n",
              "            await google.colab.kernel.invokeFunction('convertToInteractive',\n",
              "                                                     [key], {});\n",
              "          if (!dataTable) return;\n",
              "\n",
              "          const docLinkHtml = 'Like what you see? Visit the ' +\n",
              "            '<a target=\"_blank\" href=https://colab.research.google.com/notebooks/data_table.ipynb>data table notebook</a>'\n",
              "            + ' to learn more about interactive tables.';\n",
              "          element.innerHTML = '';\n",
              "          dataTable['output_type'] = 'display_data';\n",
              "          await google.colab.output.renderOutput(dataTable, element);\n",
              "          const docLink = document.createElement('div');\n",
              "          docLink.innerHTML = docLinkHtml;\n",
              "          element.appendChild(docLink);\n",
              "        }\n",
              "      </script>\n",
              "    </div>\n",
              "  </div>\n",
              "  "
            ]
          },
          "metadata": {},
          "execution_count": 7
        }
      ]
    },
    {
      "cell_type": "code",
      "source": [
        "total_df.shape"
      ],
      "metadata": {
        "colab": {
          "base_uri": "https://localhost:8080/"
        },
        "id": "FpREuXzs7S5Q",
        "outputId": "48b6ddb7-94fd-49f0-e81e-359a3fff03c8"
      },
      "execution_count": null,
      "outputs": [
        {
          "output_type": "execute_result",
          "data": {
            "text/plain": [
              "(13000, 2)"
            ]
          },
          "metadata": {},
          "execution_count": 8
        }
      ]
    },
    {
      "cell_type": "markdown",
      "source": [
        "## Build a custom Dataset"
      ],
      "metadata": {
        "id": "v0LiXDwN9QIZ"
      }
    },
    {
      "cell_type": "code",
      "source": [
        "from torch.utils.data import Dataset, DataLoader\n",
        "from torchvision import datasets\n",
        "from torchvision.io import read_image\n",
        "\n",
        "class FaceMaskDataset(Dataset):\n",
        "    def __init__(self, dir_label_df, transform=None):\n",
        "        self.dir_label_df = dir_label_df\n",
        "        self.transform = transform\n",
        "\n",
        "    def __len__(self):\n",
        "        return self.dir_label_df.shape[0]\n",
        "\n",
        "    def __getitem__(self, idx):\n",
        "        img_path = self.dir_label_df[\"Filepath\"][idx]\n",
        "        image = read_image(img_path)/255\n",
        "        label = torch.as_tensor([int(self.dir_label_df[\"Label\"][idx])])\n",
        "        if self.transform:\n",
        "            image = self.transform(image.type(torch.DoubleTensor))\n",
        "        return image, label"
      ],
      "metadata": {
        "id": "SCsiYXYoBdti"
      },
      "execution_count": null,
      "outputs": []
    },
    {
      "cell_type": "code",
      "source": [
        "import torchvision.transforms as transforms\n",
        "\n",
        "img_size = 224\n",
        "\n",
        "transform = transforms.Compose(\n",
        "    [transforms.Resize((img_size,img_size)),\n",
        "    transforms.Normalize((0.5, 0.5, 0.5), (0.2, 0.2, 0.2))])\n",
        "\n",
        "all_data = FaceMaskDataset(total_df, transform=transform)\n",
        "len(all_data), all_data[0][0].shape, all_data[0][1], float(all_data[0][0].max()), float(all_data[0][0].min())"
      ],
      "metadata": {
        "colab": {
          "base_uri": "https://localhost:8080/"
        },
        "id": "62LLxvjMCX3Y",
        "outputId": "ee1049fb-805a-4cbc-89dc-45ab5a20a125"
      },
      "execution_count": null,
      "outputs": [
        {
          "output_type": "execute_result",
          "data": {
            "text/plain": [
              "(13000, torch.Size([3, 224, 224]), tensor([0]), 2.5, -2.5)"
            ]
          },
          "metadata": {},
          "execution_count": 10
        }
      ]
    },
    {
      "cell_type": "code",
      "source": [
        "from torch.utils.data import random_split\n",
        "\n",
        "train_data, valid_data, test_data = random_split(all_data, [10000, 1000, 2000],\n",
        "                                                 generator=torch.Generator().manual_seed(0))\n",
        "len(train_data), len(valid_data), len(test_data), train_data[0][0].shape, train_data[0][1]"
      ],
      "metadata": {
        "colab": {
          "base_uri": "https://localhost:8080/"
        },
        "id": "HJO7aXj_JJBE",
        "outputId": "705eee6f-d693-444c-c994-87f5589b028d"
      },
      "execution_count": null,
      "outputs": [
        {
          "output_type": "execute_result",
          "data": {
            "text/plain": [
              "(10000, 1000, 2000, torch.Size([3, 224, 224]), tensor([0]))"
            ]
          },
          "metadata": {},
          "execution_count": 11
        }
      ]
    },
    {
      "cell_type": "code",
      "source": [
        "batch_size = 16\n",
        "\n",
        "train_loader = DataLoader(all_data, batch_size=batch_size)\n",
        "val_loader = DataLoader(valid_data, batch_size=batch_size)\n",
        "test_loader = DataLoader(test_data, batch_size=batch_size)"
      ],
      "metadata": {
        "id": "XGeNym8fDnIe"
      },
      "execution_count": null,
      "outputs": []
    },
    {
      "cell_type": "code",
      "source": [
        "from torchvision.utils import make_grid\n",
        "\n",
        "# functions to show an image\n",
        "\n",
        "def imshow(img):\n",
        "    img = img * 0.2 + 0.5     # unnormalize\n",
        "    npimg = img.numpy()\n",
        "    plt.imshow(np.transpose(npimg, (1, 2, 0)))\n",
        "    plt.show()\n",
        "\n",
        "# get some random training images\n",
        "dataiter = iter(train_loader)\n",
        "images, labels = next(dataiter)\n",
        "\n",
        "# show images\n",
        "imshow(make_grid(images))\n",
        "# print labels\n",
        "#print(' '.join(f'{labels[j]}' for j in range(batch_size)))\n",
        "labels.squeeze(1)"
      ],
      "metadata": {
        "colab": {
          "base_uri": "https://localhost:8080/",
          "height": 154
        },
        "id": "MCUKpO1XzY5X",
        "outputId": "7b6143b6-9f21-43bb-99f5-9bf22a9be0ef"
      },
      "execution_count": null,
      "outputs": [
        {
          "output_type": "display_data",
          "data": {
            "text/plain": [
              "<Figure size 432x288 with 1 Axes>"
            ],
            "image/png": "[encoded data removed]"
          },
          "metadata": {
            "needs_background": "light"
          }
        },
        {
          "output_type": "execute_result",
          "data": {
            "text/plain": [
              "tensor([0, 2, 1, 0, 1, 1, 2, 1, 2, 1, 2, 1, 2, 0, 0, 1])"
            ]
          },
          "metadata": {},
          "execution_count": 13
        }
      ]
    },
    {
      "cell_type": "markdown",
      "source": [
        "# Model modules"
      ],
      "metadata": {
        "id": "oOb5jiR0xEKm"
      }
    },
    {
      "cell_type": "code",
      "source": [
        "# for __init__.py\n",
        "# from .classification import EfficientNet, VALID_MODELS"
      ],
      "metadata": {
        "id": "wg4uq9au1jCv"
      },
      "execution_count": null,
      "outputs": []
    },
    {
      "cell_type": "markdown",
      "source": [
        "## Utils"
      ],
      "metadata": {
        "id": "3pBpko7hxmJ1"
      }
    },
    {
      "cell_type": "code",
      "source": [
        "import re\n",
        "import math\n",
        "import collections\n",
        "from functools import partial\n",
        "import torch\n",
        "from torch import nn\n",
        "from torch.nn import functional as F\n",
        "from torch.utils import model_zoo\n",
        "\n",
        "# GlobalParams and BlockArgs: Two namedtuples\n",
        "# Swish and MemoryEfficientSwish: Two implementations of the method\n",
        "# round_filters and round_repeats:\n",
        "#     Functions to calculate params for scaling model width and depth\n",
        "# get_width_and_height_from_size and calculate_output_image_size\n",
        "# drop_connect: A structural design\n",
        "\n",
        "# Parameters for the entire model (stem, all blocks, and head)\n",
        "GlobalParams = collections.namedtuple('GlobalParams', [\n",
        "    'width_coefficient', 'depth_coefficient', 'image_size', 'dropout_rate',\n",
        "    'num_classes', 'batch_norm_momentum', 'batch_norm_epsilon',\n",
        "    'drop_connect_rate', 'depth_divisor', 'min_depth', 'include_top'])\n",
        "\n",
        "# Parameters for an individual model block\n",
        "BlockArgs = collections.namedtuple('BlockArgs', [\n",
        "    'num_repeat', 'kernel_size', 'stride', 'expand_ratio',\n",
        "    'input_filters', 'output_filters', 'se_ratio', 'id_skip'])\n",
        "\n",
        "# Set GlobalParams and BlockArgs's defaults to all None\n",
        "GlobalParams.__new__.__defaults__ = (None,) * len(GlobalParams._fields)\n",
        "BlockArgs.__new__.__defaults__ = (None,) * len(BlockArgs._fields)"
      ],
      "metadata": {
        "id": "60Rmps_7FBg9"
      },
      "execution_count": null,
      "outputs": []
    },
    {
      "cell_type": "markdown",
      "source": [
        "### Swish"
      ],
      "metadata": {
        "id": "p7R9ZRjMFIkz"
      }
    },
    {
      "cell_type": "code",
      "source": [
        "# Swish activation function\n",
        "Swish = nn.SiLU\n",
        "\n",
        "\n",
        "# A memory-efficient implementation of Swish function\n",
        "class SwishImplementation(torch.autograd.Function):\n",
        "    @staticmethod\n",
        "    def forward(ctx, i):\n",
        "        result = i * torch.sigmoid(i)\n",
        "        ctx.save_for_backward(i)\n",
        "        return result\n",
        "\n",
        "    @staticmethod\n",
        "    def backward(ctx, grad_output):\n",
        "        i = ctx.saved_tensors[0]\n",
        "        sigmoid_i = torch.sigmoid(i)\n",
        "        return grad_output * (sigmoid_i * (1 + i * (1 - sigmoid_i)))\n",
        "\n",
        "\n",
        "class MemoryEfficientSwish(nn.Module):\n",
        "    def forward(self, x):\n",
        "        return SwishImplementation.apply(x)"
      ],
      "metadata": {
        "id": "7wmzCtcxFNoN"
      },
      "execution_count": null,
      "outputs": []
    },
    {
      "cell_type": "markdown",
      "source": [
        "### Padding"
      ],
      "metadata": {
        "id": "ZMiYY5PeFtx5"
      }
    },
    {
      "cell_type": "code",
      "source": [
        "def get_same_padding_conv2d(image_size=None):\n",
        "    \"\"\"\n",
        "    Args:\n",
        "        image_size (int or tuple): Size of the image.\n",
        "    Returns:\n",
        "        Conv2dDynamicSamePadding\n",
        "    \"\"\"\n",
        "    \n",
        "    return partial(Conv2dStaticSamePadding, image_size=image_size)\n",
        "\n",
        "\n",
        "class Conv2dStaticSamePadding(nn.Conv2d):\n",
        "    \"\"\"2D Convolutions with 'SAME' mode, with the given input image size.\n",
        "       The padding mudule is calculated in construction function, then used in forward.\n",
        "    \"\"\"\n",
        "\n",
        "    # With the same calculation as Conv2dDynamicSamePadding\n",
        "\n",
        "    def __init__(self, in_channels, out_channels, kernel_size, stride=1, image_size=None, **kwargs):\n",
        "        super().__init__(in_channels, out_channels, kernel_size, stride, **kwargs)\n",
        "        self.stride = self.stride if len(self.stride) == 2 else [self.stride[0]] * 2\n",
        "\n",
        "        # Calculate padding based on image size and save it\n",
        "        assert image_size is not None\n",
        "        ih, iw = (image_size, image_size) if isinstance(image_size, int) else image_size\n",
        "        kh, kw = self.weight.size()[-2:]\n",
        "        sh, sw = self.stride\n",
        "        oh, ow = math.ceil(ih / sh), math.ceil(iw / sw)\n",
        "        pad_h = max((oh - 1) * self.stride[0] + (kh - 1) * self.dilation[0] + 1 - ih, 0)\n",
        "        pad_w = max((ow - 1) * self.stride[1] + (kw - 1) * self.dilation[1] + 1 - iw, 0)\n",
        "        if pad_h > 0 or pad_w > 0:\n",
        "            self.static_padding = nn.ZeroPad2d((pad_w // 2, pad_w - pad_w // 2,\n",
        "                                                pad_h // 2, pad_h - pad_h // 2))\n",
        "        else:\n",
        "            self.static_padding = nn.Identity()\n",
        "\n",
        "    def forward(self, x):\n",
        "        x = self.static_padding(x)\n",
        "        x = F.conv2d(x, self.weight, self.bias, self.stride, self.padding, self.dilation, self.groups)\n",
        "        return x"
      ],
      "metadata": {
        "id": "BR3v7jFlFuyA"
      },
      "execution_count": null,
      "outputs": []
    },
    {
      "cell_type": "markdown",
      "source": [
        "### Model params, weights\n",
        "Helper functions for loading model params\n",
        "* BlockDecoder: A Class for encoding and decoding BlockArgs\n",
        "* efficientnet_params: A function to query compound coefficient\n",
        "* get_model_params and efficientnet: Functions to get BlockArgs and GlobalParams for efficientnet\n",
        "* load_pretrained_weights: A function to load pretrained weights"
      ],
      "metadata": {
        "id": "XEbbFRTQFvuA"
      }
    },
    {
      "cell_type": "code",
      "source": [
        "################################################################################\n",
        "# Helper functions for loading model params\n",
        "################################################################################\n",
        "\n",
        "# BlockDecoder: A Class for encoding and decoding BlockArgs\n",
        "# efficientnet_params: A function to query compound coefficient\n",
        "# get_model_params and efficientnet:\n",
        "#     Functions to get BlockArgs and GlobalParams for efficientnet\n",
        "# load_pretrained_weights: A function to load pretrained weights\n",
        "\n",
        "class BlockDecoder(object):\n",
        "    \"\"\"Block Decoder for readability,\n",
        "       straight from the official TensorFlow repository.\n",
        "    \"\"\"\n",
        "\n",
        "    @staticmethod\n",
        "    def _decode_block_string(block_string):\n",
        "        \"\"\"Get a block through a string notation of arguments.\n",
        "\n",
        "        Args:\n",
        "            block_string (str): A string notation of arguments.\n",
        "                                Examples: 'r1_k3_s11_e1_i32_o16_se0.25_noskip'.\n",
        "\n",
        "        Returns:\n",
        "            BlockArgs: The namedtuple defined at the top of this file.\n",
        "        \"\"\"\n",
        "        assert isinstance(block_string, str)\n",
        "\n",
        "        ops = block_string.split('_')\n",
        "        options = {}\n",
        "        for op in ops:\n",
        "            splits = re.split(r'(\\d.*)', op)\n",
        "            if len(splits) >= 2:\n",
        "                key, value = splits[:2]\n",
        "                options[key] = value\n",
        "\n",
        "        # Check stride\n",
        "        assert (('s' in options and len(options['s']) == 1) or\n",
        "                (len(options['s']) == 2 and options['s'][0] == options['s'][1]))\n",
        "\n",
        "        return BlockArgs(\n",
        "            num_repeat=int(options['r']),\n",
        "            kernel_size=int(options['k']),\n",
        "            stride=[int(options['s'][0])],\n",
        "            expand_ratio=int(options['e']),\n",
        "            input_filters=int(options['i']),\n",
        "            output_filters=int(options['o']),\n",
        "            se_ratio=float(options['se']) if 'se' in options else None,\n",
        "            id_skip=('noskip' not in block_string))\n",
        "\n",
        "    @staticmethod\n",
        "    def _encode_block_string(block):\n",
        "        \"\"\"Encode a block to a string.\n",
        "\n",
        "        Args:\n",
        "            block (namedtuple): A BlockArgs type argument.\n",
        "\n",
        "        Returns:\n",
        "            block_string: A String form of BlockArgs.\n",
        "        \"\"\"\n",
        "        args = [\n",
        "            'r%d' % block.num_repeat,\n",
        "            'k%d' % block.kernel_size,\n",
        "            's%d%d' % (block.strides[0], block.strides[1]),\n",
        "            'e%s' % block.expand_ratio,\n",
        "            'i%d' % block.input_filters,\n",
        "            'o%d' % block.output_filters\n",
        "        ]\n",
        "        if 0 < block.se_ratio <= 1:\n",
        "            args.append('se%s' % block.se_ratio)\n",
        "        if block.id_skip is False:\n",
        "            args.append('noskip')\n",
        "        return '_'.join(args)\n",
        "\n",
        "    @staticmethod\n",
        "    def decode(string_list):\n",
        "        \"\"\"Decode a list of string notations to specify blocks inside the network.\n",
        "\n",
        "        Args:\n",
        "            string_list (list[str]): A list of strings, each string is a notation of block.\n",
        "\n",
        "        Returns:\n",
        "            blocks_args: A list of BlockArgs namedtuples of block args.\n",
        "        \"\"\"\n",
        "        assert isinstance(string_list, list)\n",
        "        blocks_args = []\n",
        "        for block_string in string_list:\n",
        "            blocks_args.append(BlockDecoder._decode_block_string(block_string))\n",
        "        return blocks_args\n",
        "\n",
        "    @staticmethod\n",
        "    def encode(blocks_args):\n",
        "        \"\"\"Encode a list of BlockArgs to a list of strings.\n",
        "\n",
        "        Args:\n",
        "            blocks_args (list[namedtuples]): A list of BlockArgs namedtuples of block args.\n",
        "\n",
        "        Returns:\n",
        "            block_strings: A list of strings, each string is a notation of block.\n",
        "        \"\"\"\n",
        "        block_strings = []\n",
        "        for block in blocks_args:\n",
        "            block_strings.append(BlockDecoder._encode_block_string(block))\n",
        "        return block_strings\n",
        "\n",
        "\n",
        "def efficientnet_params(model_name):\n",
        "    \"\"\"Map EfficientNet model name to parameter coefficients.\n",
        "\n",
        "    Args:\n",
        "        model_name (str): Model name to be queried.\n",
        "\n",
        "    Returns:\n",
        "        params_dict[model_name]: A (width,depth,res,dropout) tuple.\n",
        "    \"\"\"\n",
        "    params_dict = {\n",
        "        # Coefficients:   width,depth,res,dropout\n",
        "        'efficientnet-b0': (1.0, 1.0, 224, 0.2),\n",
        "        'efficientnet-b1': (1.0, 1.1, 240, 0.2),\n",
        "        'efficientnet-b2': (1.1, 1.2, 260, 0.3),\n",
        "        'efficientnet-b3': (1.2, 1.4, 300, 0.3),\n",
        "        'efficientnet-b4': (1.4, 1.8, 380, 0.4),\n",
        "        'efficientnet-b5': (1.6, 2.2, 456, 0.4),\n",
        "        'efficientnet-b6': (1.8, 2.6, 528, 0.5),\n",
        "        'efficientnet-b7': (2.0, 3.1, 600, 0.5),\n",
        "    }\n",
        "    return params_dict[model_name]\n",
        "\n",
        "\n",
        "def efficientnet(width_coefficient=None, depth_coefficient=None, image_size=None,\n",
        "                 dropout_rate=0.2, drop_connect_rate=0.2, num_classes=3, include_top=True):\n",
        "    \"\"\"Create BlockArgs and GlobalParams for efficientnet model.\n",
        "\n",
        "    Args:\n",
        "        width_coefficient (float)\n",
        "        depth_coefficient (float)\n",
        "        image_size (int)\n",
        "        dropout_rate (float)\n",
        "        drop_connect_rate (float)\n",
        "        num_classes (int)\n",
        "\n",
        "        Meaning as the name suggests.\n",
        "\n",
        "    Returns:\n",
        "        blocks_args, global_params.\n",
        "    \"\"\"\n",
        "\n",
        "    # Blocks args for the whole model(efficientnet-b0 by default)\n",
        "    # It will be modified in the construction of EfficientNet Class according to model\n",
        "    blocks_args = [\n",
        "        'r1_k3_s11_e1_i32_o16_se0.25',\n",
        "        'r2_k3_s22_e6_i16_o24_se0.25',\n",
        "        'r2_k5_s22_e6_i24_o40_se0.25',\n",
        "        'r3_k3_s22_e6_i40_o80_se0.25',\n",
        "        'r3_k5_s11_e6_i80_o112_se0.25',\n",
        "        'r4_k5_s22_e6_i112_o192_se0.25',\n",
        "        'r1_k3_s11_e6_i192_o320_se0.25',\n",
        "    ]\n",
        "    blocks_args = BlockDecoder.decode(blocks_args)\n",
        "\n",
        "    global_params = GlobalParams(\n",
        "        width_coefficient=width_coefficient,\n",
        "        depth_coefficient=depth_coefficient,\n",
        "        image_size=image_size,\n",
        "        dropout_rate=dropout_rate,\n",
        "\n",
        "        num_classes=num_classes,\n",
        "        batch_norm_momentum=0.99,\n",
        "        batch_norm_epsilon=1e-3,\n",
        "        drop_connect_rate=drop_connect_rate,\n",
        "        depth_divisor=8,\n",
        "        min_depth=None,\n",
        "        include_top=include_top,\n",
        "    )\n",
        "\n",
        "    return blocks_args, global_params\n",
        "\n",
        "\n",
        "def get_model_params(model_name, override_params):\n",
        "    \"\"\"Get the block args and global params for a given model name.\n",
        "\n",
        "    Args:\n",
        "        model_name (str): Model's name.\n",
        "        override_params (dict): A dict to modify global_params.\n",
        "\n",
        "    Returns:\n",
        "        blocks_args, global_params\n",
        "    \"\"\"\n",
        "    if model_name.startswith('efficientnet'):\n",
        "        w, d, s, p = efficientnet_params(model_name)\n",
        "        # note: all models have drop connect rate = 0.2\n",
        "        blocks_args, global_params = efficientnet(\n",
        "            width_coefficient=w, depth_coefficient=d, dropout_rate=p, image_size=s)\n",
        "    else:\n",
        "        raise NotImplementedError('model name is not pre-defined: {}'.format(model_name))\n",
        "    if override_params:\n",
        "        # ValueError will be raised here if override_params has fields not included in global_params.\n",
        "        global_params = global_params._replace(**override_params)\n",
        "    return blocks_args, global_params\n",
        "\n",
        "\n",
        "def load_weights(model, weights_path=None, online=False, load_fc=True, verbose=True):\n",
        "    \"\"\"Loads weights from weights path or download using url.\n",
        "\n",
        "    Args:\n",
        "        model (Module): The whole skeleton model of efficientnet.\n",
        "        weights_path (str):\n",
        "            online=False: path to pretrained weights file on the local disk.\n",
        "            online=True: use weights downloaded from the Internet.\n",
        "        load_fc (bool): Whether to load pretrained weights for fc layer at the end of the model.\n",
        "    \"\"\"\n",
        "    if not online:\n",
        "        state_dict = torch.load(weights_path)\n",
        "    else:\n",
        "        state_dict = model_zoo.load_url(weights_path)\n",
        "\n",
        "    if load_fc:\n",
        "        ret = model.load_state_dict(state_dict, strict=False)\n",
        "        assert not ret.missing_keys, 'Missing keys when loading pretrained weights: {}'.format(ret.missing_keys)\n",
        "    else:\n",
        "        state_dict.pop('_fc.weight')\n",
        "        state_dict.pop('_fc.bias')\n",
        "        ret = model.load_state_dict(state_dict, strict=False)\n",
        "        assert set(ret.missing_keys) == set(\n",
        "            ['_fc.weight', '_fc.bias']), 'Missing keys when loading pretrained weights: {}'.format(ret.missing_keys)\n",
        "    assert not ret.unexpected_keys, 'Missing keys when loading pretrained weights: {}'.format(ret.unexpected_keys)\n",
        "\n",
        "    if verbose:\n",
        "        print('Finish loading weights')"
      ],
      "metadata": {
        "id": "S3Errmm9FwgO"
      },
      "execution_count": null,
      "outputs": []
    },
    {
      "cell_type": "markdown",
      "source": [
        "### Miscellaneous"
      ],
      "metadata": {
        "id": "WpEitpk5Faht"
      }
    },
    {
      "cell_type": "code",
      "source": [
        "def round_filters(filters, global_params):\n",
        "    \"\"\"Calculate and round number of filters based on width multiplier.\n",
        "       Use width_coefficient, depth_divisor and min_depth of global_params.\n",
        "\n",
        "    Args:\n",
        "        filters (int): Filters number to be calculated.\n",
        "        global_params (namedtuple): Global params of the model.\n",
        "\n",
        "    Returns:\n",
        "        new_filters: New filters number after calculating.\n",
        "    \"\"\"\n",
        "    multiplier = global_params.width_coefficient\n",
        "    if not multiplier:\n",
        "        return filters\n",
        "\n",
        "    divisor = global_params.depth_divisor\n",
        "    min_depth = global_params.min_depth\n",
        "    filters *= multiplier\n",
        "    min_depth = min_depth or divisor  # pay attention to this line when using min_depth\n",
        "    # follow the formula transferred from official TensorFlow implementation\n",
        "    new_filters = max(min_depth, int(filters + divisor / 2) // divisor * divisor)\n",
        "    if new_filters < 0.9 * filters:  # prevent rounding by more than 10%\n",
        "        new_filters += divisor\n",
        "    return int(new_filters)\n",
        "\n",
        "\n",
        "def round_repeats(repeats, global_params):\n",
        "    \"\"\"Calculate module's repeat number of a block based on depth multiplier.\n",
        "       Use depth_coefficient of global_params.\n",
        "\n",
        "    Args:\n",
        "        repeats (int): num_repeat to be calculated.\n",
        "        global_params (namedtuple): Global params of the model.\n",
        "\n",
        "    Returns:\n",
        "        new repeat: New repeat number after calculating.\n",
        "    \"\"\"\n",
        "    multiplier = global_params.depth_coefficient\n",
        "    if not multiplier:\n",
        "        return repeats\n",
        "    # follow the formula transferred from official TensorFlow implementation\n",
        "    return int(math.ceil(multiplier * repeats))\n",
        "\n",
        "\n",
        "def drop_connect(inputs, p, training):\n",
        "    \"\"\"Drop connect.\n",
        "\n",
        "    Args:\n",
        "        input (tensor: BCWH): Input of this structure.\n",
        "        p (float: 0.0~1.0): Probability of drop connection.\n",
        "        training (bool): The running mode.\n",
        "\n",
        "    Returns:\n",
        "        output: Output after drop connection.\n",
        "    \"\"\"\n",
        "    assert 0 <= p <= 1, 'p must be in range of [0,1]'\n",
        "\n",
        "    if not training:\n",
        "        return inputs\n",
        "\n",
        "    batch_size = inputs.shape[0]\n",
        "    keep_prob = 1 - p\n",
        "\n",
        "    # generate binary_tensor mask according to probability (p for 0, 1-p for 1)\n",
        "    random_tensor = keep_prob\n",
        "    random_tensor += torch.rand([batch_size, 1, 1, 1], dtype=inputs.dtype, device=inputs.device)\n",
        "    binary_tensor = torch.floor(random_tensor)\n",
        "\n",
        "    output = inputs / keep_prob * binary_tensor\n",
        "    return output\n",
        "\n",
        "\n",
        "def get_width_and_height_from_size(x):\n",
        "    \"\"\"Obtain height and width from x.\n",
        "\n",
        "    Args:\n",
        "        x (int, tuple or list): Data size.\n",
        "\n",
        "    Returns:\n",
        "        size: A tuple or list (H,W).\n",
        "    \"\"\"\n",
        "    if isinstance(x, int):\n",
        "        return x, x\n",
        "    if isinstance(x, list) or isinstance(x, tuple):\n",
        "        return x\n",
        "    else:\n",
        "        raise TypeError()\n",
        "\n",
        "\n",
        "def calculate_output_image_size(input_image_size, stride):\n",
        "    \"\"\"Calculates the output image size when using Conv2dSamePadding with a stride.\n",
        "       Necessary for static padding. Thanks to mannatsingh for pointing this out.\n",
        "\n",
        "    Args:\n",
        "        input_image_size (int, tuple or list): Size of input image.\n",
        "        stride (int, tuple or list): Conv2d operation's stride.\n",
        "\n",
        "    Returns:\n",
        "        output_image_size: A list [H,W].\n",
        "    \"\"\"\n",
        "    if input_image_size is None:\n",
        "        return None\n",
        "    image_height, image_width = get_width_and_height_from_size(input_image_size)\n",
        "    stride = stride if isinstance(stride, int) else stride[0]\n",
        "    image_height = int(math.ceil(image_height / stride))\n",
        "    image_width = int(math.ceil(image_width / stride))\n",
        "    return [image_height, image_width]"
      ],
      "metadata": {
        "id": "uE94z7_TxFNR"
      },
      "execution_count": null,
      "outputs": []
    },
    {
      "cell_type": "markdown",
      "source": [
        "## Model class"
      ],
      "metadata": {
        "id": "YRuP0gulxqdG"
      }
    },
    {
      "cell_type": "markdown",
      "source": [
        "<img src=\"https://miro.medium.com/max/4800/0*WP4AKPg1QsrMCKKO.png\" alt=\"Architecture info\" width=\"500\"/>\n"
      ],
      "metadata": {
        "id": "dt90Zc9uAb46"
      }
    },
    {
      "cell_type": "code",
      "source": [
        "import torch\n",
        "from torch import nn\n",
        "from torch.nn import functional as F"
      ],
      "metadata": {
        "id": "9uPN_cMZCi-K"
      },
      "execution_count": null,
      "outputs": []
    },
    {
      "cell_type": "markdown",
      "source": [
        "### MBConvBlock "
      ],
      "metadata": {
        "id": "Dicqe9btCjl8"
      }
    },
    {
      "cell_type": "code",
      "source": [
        "class MBConvBlock(nn.Module):\n",
        "    \"\"\"Mobile Inverted Residual Bottleneck Block.\n",
        "\n",
        "    Args:\n",
        "        block_args (namedtuple): BlockArgs, defined in utils.py.\n",
        "        global_params (namedtuple): GlobalParam, defined in utils.py.\n",
        "        image_size (tuple or list): [image_height, image_width].\n",
        "    \"\"\"\n",
        "\n",
        "    def __init__(self, block_args, global_params, image_size=None):\n",
        "        super().__init__()\n",
        "        self._block_args = block_args\n",
        "        self._bn_mom = 1 - global_params.batch_norm_momentum  \n",
        "        self._bn_eps = global_params.batch_norm_epsilon\n",
        "        self.has_se = (self._block_args.se_ratio is not None) and (0 < self._block_args.se_ratio <= 1)\n",
        "        self.id_skip = block_args.id_skip  # whether to use skip connection and drop connect\n",
        "\n",
        "        # Expansion phase (Inverted Bottleneck)\n",
        "        inp = self._block_args.input_filters  # number of input channels\n",
        "        oup = self._block_args.input_filters * self._block_args.expand_ratio  # number of output channels\n",
        "        if self._block_args.expand_ratio != 1:\n",
        "            Conv2d = get_same_padding_conv2d(image_size=image_size)\n",
        "            self._expand_conv = Conv2d(in_channels=inp, out_channels=oup, kernel_size=1, bias=False)\n",
        "            self._bn0 = nn.BatchNorm2d(num_features=oup, momentum=self._bn_mom, eps=self._bn_eps)\n",
        "\n",
        "        # Depthwise convolution phase\n",
        "        k = self._block_args.kernel_size\n",
        "        s = self._block_args.stride\n",
        "        Conv2d = get_same_padding_conv2d(image_size=image_size)\n",
        "        self._depthwise_conv = Conv2d(\n",
        "            in_channels=oup, out_channels=oup, groups=oup,  # groups makes it depthwise\n",
        "            kernel_size=k, stride=s, bias=False)\n",
        "        self._bn1 = nn.BatchNorm2d(num_features=oup, momentum=self._bn_mom, eps=self._bn_eps)\n",
        "        image_size = calculate_output_image_size(image_size, s)\n",
        "\n",
        "        # Squeeze and Excitation layer if needed\n",
        "        if self.has_se:\n",
        "            Conv2d = get_same_padding_conv2d(image_size=(1, 1))\n",
        "            num_squeezed_channels = max(1, int(self._block_args.input_filters * self._block_args.se_ratio))\n",
        "            self._se_reduce = Conv2d(in_channels=oup, out_channels=num_squeezed_channels, kernel_size=1)\n",
        "            self._se_expand = Conv2d(in_channels=num_squeezed_channels, out_channels=oup, kernel_size=1)\n",
        "\n",
        "        # Pointwise convolution phase\n",
        "        final_oup = self._block_args.output_filters\n",
        "        Conv2d = get_same_padding_conv2d(image_size=image_size)\n",
        "        self._project_conv = Conv2d(in_channels=oup, out_channels=final_oup, kernel_size=1, bias=False)\n",
        "        self._bn2 = nn.BatchNorm2d(num_features=final_oup, momentum=self._bn_mom, eps=self._bn_eps)\n",
        "        self._swish = MemoryEfficientSwish()\n",
        "\n",
        "    def forward(self, inputs, drop_connect_rate=None):\n",
        "        \"\"\"MBConvBlock's forward function.\n",
        "\n",
        "        Args:\n",
        "            inputs (tensor): Input tensor.\n",
        "            drop_connect_rate (bool): Drop connect rate (float, between 0 and 1).\n",
        "\n",
        "        Returns:\n",
        "            Output of this block after processing.\n",
        "        \"\"\"\n",
        "\n",
        "        # Expansion and Depthwise Convolution\n",
        "        x = inputs\n",
        "        if self._block_args.expand_ratio != 1:\n",
        "            x = self._expand_conv(inputs)\n",
        "            x = self._bn0(x)\n",
        "            x = self._swish(x)\n",
        "\n",
        "        x = self._depthwise_conv(x)\n",
        "        x = self._bn1(x)\n",
        "        x = self._swish(x)\n",
        "\n",
        "        # Squeeze and Excitation\n",
        "        if self.has_se:\n",
        "            x_squeezed = F.adaptive_avg_pool2d(x, 1)\n",
        "            x_squeezed = self._se_reduce(x_squeezed)\n",
        "            x_squeezed = self._swish(x_squeezed)\n",
        "            x_squeezed = self._se_expand(x_squeezed)\n",
        "            x = torch.sigmoid(x_squeezed) * x\n",
        "\n",
        "        # Pointwise Convolution\n",
        "        x = self._project_conv(x)\n",
        "        x = self._bn2(x)\n",
        "\n",
        "        # Skip connection and drop connect\n",
        "        input_filters, output_filters = self._block_args.input_filters, self._block_args.output_filters\n",
        "        if self.id_skip and self._block_args.stride == 1 and input_filters == output_filters:\n",
        "            # The combination of skip connection and drop connect brings about stochastic depth.\n",
        "            if drop_connect_rate:\n",
        "                x = drop_connect(x, p=drop_connect_rate, training=self.training)\n",
        "            x = x + inputs  # skip connection\n",
        "        return x\n",
        "\n",
        "    def set_swish(self, memory_efficient=True):\n",
        "        \"\"\"Sets swish function as memory efficient (for training) or standard (for export).\n",
        "\n",
        "        Args:\n",
        "            memory_efficient (bool): Whether to use memory-efficient version of swish.\n",
        "        \"\"\"\n",
        "        self._swish = MemoryEfficientSwish() if memory_efficient else Swish()"
      ],
      "metadata": {
        "id": "byDIR_Szxr-1"
      },
      "execution_count": null,
      "outputs": []
    },
    {
      "cell_type": "markdown",
      "source": [
        "### EfficientNet"
      ],
      "metadata": {
        "id": "VPM5cBjuCplP"
      }
    },
    {
      "cell_type": "code",
      "source": [
        "VALID_MODELS = (\n",
        "    'efficientnet-b0', 'efficientnet-b1', 'efficientnet-b2', 'efficientnet-b3',\n",
        "    'efficientnet-b4', 'efficientnet-b5', 'efficientnet-b6', 'efficientnet-b7',\n",
        ")"
      ],
      "metadata": {
        "id": "pFLDdscXj7Y6"
      },
      "execution_count": null,
      "outputs": []
    },
    {
      "cell_type": "code",
      "source": [
        "class EfficientNet(nn.Module):\n",
        "    \"\"\"EfficientNet model.\n",
        "       Most easily loaded with the .from_name or .from_pretrained methods.\n",
        "\n",
        "    Args:\n",
        "        blocks_args (list[namedtuple]): A list of BlockArgs to construct blocks.\n",
        "        global_params (namedtuple): A set of GlobalParams shared between blocks.\n",
        "    \"\"\"\n",
        "\n",
        "    def __init__(self, blocks_args=None, global_params=None):\n",
        "        super().__init__()\n",
        "        assert isinstance(blocks_args, list), 'blocks_args should be a list'\n",
        "        assert len(blocks_args) > 0, 'block args must be greater than 0'\n",
        "        self._global_params = global_params\n",
        "        self._blocks_args = blocks_args\n",
        "\n",
        "        # Batch norm parameters\n",
        "        bn_mom = 1 - self._global_params.batch_norm_momentum\n",
        "        bn_eps = self._global_params.batch_norm_epsilon\n",
        "\n",
        "        # Get stem static or dynamic convolution depending on image size\n",
        "        image_size = global_params.image_size\n",
        "        Conv2d = get_same_padding_conv2d(image_size=image_size)\n",
        "\n",
        "        # Stem\n",
        "        in_channels = 3  # rgb\n",
        "        out_channels = round_filters(32, self._global_params)  # number of output channels\n",
        "        self._conv_stem = Conv2d(in_channels, out_channels, kernel_size=3, stride=2, bias=False)\n",
        "        self._bn0 = nn.BatchNorm2d(num_features=out_channels, momentum=bn_mom, eps=bn_eps)\n",
        "        image_size = calculate_output_image_size(image_size, 2)\n",
        "\n",
        "        # Build blocks\n",
        "        self._blocks = nn.ModuleList([])\n",
        "        for block_args in self._blocks_args:\n",
        "\n",
        "            # Update block input and output filters based on depth multiplier.\n",
        "            block_args = block_args._replace(\n",
        "                input_filters=round_filters(block_args.input_filters, self._global_params),\n",
        "                output_filters=round_filters(block_args.output_filters, self._global_params),\n",
        "                num_repeat=round_repeats(block_args.num_repeat, self._global_params)\n",
        "            )\n",
        "\n",
        "            # The first block needs to take care of stride and filter size increase.\n",
        "            self._blocks.append(MBConvBlock(block_args, self._global_params, image_size=image_size))\n",
        "            image_size = calculate_output_image_size(image_size, block_args.stride)\n",
        "            if block_args.num_repeat > 1:  # modify block_args to keep same output size\n",
        "                block_args = block_args._replace(input_filters=block_args.output_filters, stride=1)\n",
        "            for _ in range(block_args.num_repeat - 1):\n",
        "                self._blocks.append(MBConvBlock(block_args, self._global_params, image_size=image_size))\n",
        "\n",
        "        # Head\n",
        "        in_channels = block_args.output_filters  # output of final block\n",
        "        out_channels = round_filters(1280, self._global_params)\n",
        "        Conv2d = get_same_padding_conv2d(image_size=image_size)\n",
        "        self._conv_head = Conv2d(in_channels, out_channels, kernel_size=1, bias=False)\n",
        "        self._bn1 = nn.BatchNorm2d(num_features=out_channels, momentum=bn_mom, eps=bn_eps)\n",
        "\n",
        "        # Final linear layer\n",
        "        self._avg_pooling = nn.AdaptiveAvgPool2d(1)\n",
        "        if self._global_params.include_top:\n",
        "            self._dropout = nn.Dropout(self._global_params.dropout_rate)\n",
        "            self._fc = nn.Linear(out_channels, self._global_params.num_classes)\n",
        "\n",
        "        # set activation to memory efficient swish by default\n",
        "        self._swish = MemoryEfficientSwish()\n",
        "\n",
        "    def set_swish(self, memory_efficient=True):\n",
        "        \"\"\"Sets swish function as memory efficient (for training) or standard (for export).\n",
        "\n",
        "        Args:\n",
        "            memory_efficient (bool): Whether to use memory-efficient version of swish.\n",
        "        \"\"\"\n",
        "        self._swish = MemoryEfficientSwish() if memory_efficient else Swish()\n",
        "        for block in self._blocks:\n",
        "            block.set_swish(memory_efficient)\n",
        "\n",
        "    def extract_endpoints(self, inputs):\n",
        "        \"\"\"Use convolution layer to extract features\n",
        "        from reduction levels i in [1, 2, 3, 4, 5].\n",
        "\n",
        "        Args:\n",
        "            inputs (tensor): Input tensor.\n",
        "\n",
        "        Returns:\n",
        "            Dictionary of last intermediate features\n",
        "            with reduction levels i in [1, 2, 3, 4, 5].\n",
        "            Example:\n",
        "                >>> import torch\n",
        "                >>> inputs = torch.rand(1, 3, 224, 224)\n",
        "                >>> model = EfficientNet.from_pretrained('efficientnet-b0')\n",
        "                >>> endpoints = model.extract_endpoints(inputs)\n",
        "                >>> print(endpoints['reduction_1'].shape)  # torch.Size([1, 16, 112, 112])\n",
        "                >>> print(endpoints['reduction_2'].shape)  # torch.Size([1, 24, 56, 56])\n",
        "                >>> print(endpoints['reduction_3'].shape)  # torch.Size([1, 40, 28, 28])\n",
        "                >>> print(endpoints['reduction_4'].shape)  # torch.Size([1, 112, 14, 14])\n",
        "                >>> print(endpoints['reduction_5'].shape)  # torch.Size([1, 320, 7, 7])\n",
        "                >>> print(endpoints['reduction_6'].shape)  # torch.Size([1, 1280, 7, 7])\n",
        "        \"\"\"\n",
        "        endpoints = dict()\n",
        "\n",
        "        # Stem\n",
        "        x = self._swish(self._bn0(self._conv_stem(inputs)))\n",
        "        prev_x = x\n",
        "\n",
        "        # Blocks\n",
        "        for idx, block in enumerate(self._blocks):\n",
        "            drop_connect_rate = self._global_params.drop_connect_rate\n",
        "            if drop_connect_rate:\n",
        "                drop_connect_rate *= float(idx) / len(self._blocks)  # scale drop connect_rate\n",
        "            x = block(x, drop_connect_rate=drop_connect_rate)\n",
        "            if prev_x.size(2) > x.size(2):\n",
        "                endpoints['reduction_{}'.format(len(endpoints) + 1)] = prev_x\n",
        "            elif idx == len(self._blocks) - 1:\n",
        "                endpoints['reduction_{}'.format(len(endpoints) + 1)] = x\n",
        "            prev_x = x\n",
        "\n",
        "        # Head\n",
        "        x = self._swish(self._bn1(self._conv_head(x)))\n",
        "        endpoints['reduction_{}'.format(len(endpoints) + 1)] = x\n",
        "\n",
        "        return endpoints\n",
        "\n",
        "    def extract_features(self, inputs):\n",
        "        \"\"\"use convolution layer to extract feature .\n",
        "\n",
        "        Args:\n",
        "            inputs (tensor): Input tensor.\n",
        "\n",
        "        Returns:\n",
        "            Output of the final convolution\n",
        "            layer in the efficientnet model.\n",
        "        \"\"\"\n",
        "        # Stem\n",
        "        x = self._swish(self._bn0(self._conv_stem(inputs)))\n",
        "\n",
        "        # Blocks\n",
        "        for idx, block in enumerate(self._blocks):\n",
        "            drop_connect_rate = self._global_params.drop_connect_rate\n",
        "            if drop_connect_rate:\n",
        "                drop_connect_rate *= float(idx) / len(self._blocks)  # scale drop connect_rate\n",
        "            x = block(x, drop_connect_rate=drop_connect_rate)\n",
        "\n",
        "        # Head\n",
        "        x = self._swish(self._bn1(self._conv_head(x)))\n",
        "\n",
        "        return x\n",
        "\n",
        "    def forward(self, inputs):\n",
        "        \"\"\"EfficientNet's forward function.\n",
        "           Calls extract_features to extract features, applies final linear layer, and returns logits.\n",
        "\n",
        "        Args:\n",
        "            inputs (tensor): Input tensor.\n",
        "\n",
        "        Returns:\n",
        "            Output of this model after processing.\n",
        "        \"\"\"\n",
        "        # Convolution layers\n",
        "        x = self.extract_features(inputs)\n",
        "        # Pooling and final linear layer\n",
        "        x = self._avg_pooling(x)\n",
        "        if self._global_params.include_top:\n",
        "            x = x.flatten(start_dim=1)\n",
        "            x = self._dropout(x)\n",
        "            x = self._fc(x)\n",
        "        return x\n",
        "\n",
        "    @classmethod\n",
        "    def from_name(cls, model_name, **override_params):\n",
        "        \"\"\"Create an efficientnet model according to name.\n",
        "\n",
        "        Args:\n",
        "            model_name (str): Name for efficientnet.\n",
        "            in_channels (int): Input data's channel number.\n",
        "            override_params (other key word params):\n",
        "                Params to override model's global_params.\n",
        "                Optional key:\n",
        "                    'width_coefficient', 'depth_coefficient',\n",
        "                    'image_size', 'dropout_rate',\n",
        "                    'num_classes', 'batch_norm_momentum',\n",
        "                    'batch_norm_epsilon', 'drop_connect_rate',\n",
        "                    'depth_divisor', 'min_depth'\n",
        "\n",
        "        Returns:\n",
        "            An efficientnet model.\n",
        "        \"\"\"\n",
        "        cls._check_model_name_is_valid(model_name)\n",
        "        blocks_args, global_params = get_model_params(model_name, override_params)\n",
        "        model = cls(blocks_args, global_params)\n",
        "        return model\n",
        "\n",
        "\n",
        "    @classmethod\n",
        "    def _check_model_name_is_valid(cls, model_name):\n",
        "        \"\"\"Validates model name.\n",
        "\n",
        "        Args:\n",
        "            model_name (str): Name for efficientnet.\n",
        "\n",
        "        Returns:\n",
        "            bool: Is a valid name or not.\n",
        "        \"\"\"\n",
        "        if model_name not in VALID_MODELS:\n",
        "            raise ValueError('model_name should be one of: ' + ', '.join(VALID_MODELS))"
      ],
      "metadata": {
        "id": "y5YSkS7XCrXA"
      },
      "execution_count": null,
      "outputs": []
    },
    {
      "cell_type": "markdown",
      "source": [
        "## Test"
      ],
      "metadata": {
        "id": "fYeXGivVC3ue"
      }
    },
    {
      "cell_type": "code",
      "source": [
        "num_examples, num_classes = 10, 5\n",
        "inputs = torch.rand(10, 3, 224, 224)\n",
        "model = EfficientNet.from_name('efficientnet-b0', num_classes=5)\n",
        "model.eval()\n",
        "model(inputs).shape # (num_examples, num_classes)"
      ],
      "metadata": {
        "colab": {
          "base_uri": "https://localhost:8080/"
        },
        "id": "B7-5ctXvOSSV",
        "outputId": "4719fd30-29c3-437e-c35f-9408d1e51597"
      },
      "execution_count": null,
      "outputs": [
        {
          "output_type": "execute_result",
          "data": {
            "text/plain": [
              "torch.Size([10, 5])"
            ]
          },
          "metadata": {},
          "execution_count": 24
        }
      ]
    },
    {
      "cell_type": "markdown",
      "source": [
        "# Train"
      ],
      "metadata": {
        "id": "VuaLBNbq88gp"
      }
    },
    {
      "cell_type": "markdown",
      "source": [
        "## Setup"
      ],
      "metadata": {
        "id": "TvYhvAeL-ZFw"
      }
    },
    {
      "cell_type": "code",
      "source": [
        "import torch\n",
        "import torch.nn as nn\n",
        "import torch.optim as optim\n",
        "from torch.utils.data import DataLoader\n",
        "from torch.utils.data import sampler\n",
        "\n",
        "import torchvision.datasets as dset\n",
        "import torchvision.transforms as T\n",
        "\n",
        "import numpy as np\n",
        "\n",
        "USE_GPU = True\n",
        "dtype = torch.float32 # We will use float torch\n",
        "\n",
        "if USE_GPU and torch.cuda.is_available():\n",
        "    device = torch.device('cuda')\n",
        "else:\n",
        "    device = torch.device('cpu')\n",
        "\n",
        "# control how frequently to print train loss.\n",
        "print_every = 100\n",
        "print('using device:', device)"
      ],
      "metadata": {
        "colab": {
          "base_uri": "https://localhost:8080/"
        },
        "id": "jlGm2KVp-UTs",
        "outputId": "62aab191-479b-49b3-9ae9-6bb1b9773dfc"
      },
      "execution_count": null,
      "outputs": [
        {
          "output_type": "stream",
          "name": "stdout",
          "text": [
            "using device: cuda\n"
          ]
        }
      ]
    },
    {
      "cell_type": "markdown",
      "source": [
        "## Utils"
      ],
      "metadata": {
        "id": "O6D8gAis-akf"
      }
    },
    {
      "cell_type": "code",
      "source": [
        "def check_accuracy(loader, model):  \n",
        "    num_correct = 0\n",
        "    num_samples = 0\n",
        "    model.eval()  # set model to evaluation mode\n",
        "    with torch.no_grad():\n",
        "        for x, y in loader:\n",
        "            x = x.to(device=device, dtype=dtype)  # move to device, e.g. GPU\n",
        "            y = y.squeeze(1).to(device=device, dtype=torch.long)\n",
        "            scores = model(x)\n",
        "            _, preds = scores.max(1)\n",
        "            num_correct += (preds == y).sum()\n",
        "            num_samples += preds.size(0)\n",
        "        acc = float(num_correct) / num_samples\n",
        "        print('Got %d / %d correct (%.2f)' % (num_correct, num_samples, 100 * acc))\n",
        "        return acc"
      ],
      "metadata": {
        "id": "4rx5p1kqZwQl"
      },
      "execution_count": null,
      "outputs": []
    },
    {
      "cell_type": "code",
      "source": [
        "from sklearn.metrics import classification_report\n",
        "\n",
        "def check_performance(loader, model):\n",
        "    y_true = []\n",
        "    y_pred = []\n",
        "    model.eval()  # set model to evaluation mode\n",
        "    with torch.no_grad():\n",
        "        for x, y in loader:\n",
        "            x = x.to(device=device, dtype=dtype)  # move to device, e.g. GPU\n",
        "            y = y.squeeze(1).to(device=device, dtype=torch.long)\n",
        "            scores = model(x)\n",
        "            _, preds = scores.max(1)\n",
        "            y_true += y.tolist()\n",
        "            y_pred += preds.tolist()\n",
        "\n",
        "    print(classification_report(y_true, y_pred, digits=4))"
      ],
      "metadata": {
        "id": "tZ64JYwk9flD"
      },
      "execution_count": null,
      "outputs": []
    },
    {
      "cell_type": "code",
      "source": [
        "def train(model, optimizer, epochs=1):\n",
        "    \"\"\"    \n",
        "    Inputs:\n",
        "    - model: A PyTorch Module giving the model to train.\n",
        "    - optimizer: An Optimizer object we will use to train the model\n",
        "    - epochs: (Optional) A Python integer giving the number of epochs to train for\n",
        "    \n",
        "    Returns: history\n",
        "    \"\"\"\n",
        "    model = model.to(device=device)  # move the model parameters to CPU/GPU\n",
        "    loss_train = []\n",
        "    val_acc = []\n",
        "\n",
        "    for e in range(epochs):\n",
        "        print(\"Epoch: \", e)\n",
        "        for t, (x, y) in enumerate(train_loader):\n",
        "            model.train()  # put model to training mode\n",
        "            x = x.to(device=device, dtype=dtype)  # move to device, e.g. GPU\n",
        "            y = y.squeeze(1).to(device=device, dtype=torch.long)\n",
        "\n",
        "            scores = model(x)\n",
        "            criterion = nn.CrossEntropyLoss()\n",
        "            loss = criterion(scores, y)\n",
        "\n",
        "            # Zero out all of the gradients for the variables which the optimizer\n",
        "            # will update.\n",
        "            optimizer.zero_grad()\n",
        "\n",
        "            # backwards pass: compute the gradient of the loss with\n",
        "            # respect to each  parameter of the model.\n",
        "            loss.backward()\n",
        "\n",
        "            # update the parameters of the model using the gradients\n",
        "            # computed by the backwards pass.\n",
        "            optimizer.step()\n",
        "\n",
        "            if t % print_every == 0:\n",
        "                print('Iteration %d, loss = %.4f' % (t, loss.item()))\n",
        "                acc = check_accuracy(val_loader, model)\n",
        "                print()\n",
        "                loss_train.append(loss.item())\n",
        "                val_acc.append(acc)\n",
        "\n",
        "        # if log per epoch\n",
        "        #loss_train.append(loss.item())\n",
        "        #val_acc.append(acc)           \n",
        "\n",
        "    return loss_train, val_acc"
      ],
      "metadata": {
        "id": "XQ5qLqJBZWw2"
      },
      "execution_count": null,
      "outputs": []
    },
    {
      "cell_type": "markdown",
      "source": [
        "## Load weights (resume training)"
      ],
      "metadata": {
        "id": "WlE_wg1k-ehj"
      }
    },
    {
      "cell_type": "markdown",
      "source": [
        "Build the architecture"
      ],
      "metadata": {
        "id": "VxJM9SG8x00d"
      }
    },
    {
      "cell_type": "code",
      "source": [
        "model = EfficientNet.from_name('efficientnet-b0', num_classes=3)"
      ],
      "metadata": {
        "id": "o0cJe_JajPHo"
      },
      "execution_count": null,
      "outputs": []
    },
    {
      "cell_type": "code",
      "source": [
        "model_dir = \"/content/drive/MyDrive/Colab Notebooks/COMP4471/Project/efficientnet-b0-ckpt2.pth\""
      ],
      "metadata": {
        "id": "YMTmxIPYmaM7"
      },
      "execution_count": null,
      "outputs": []
    },
    {
      "cell_type": "markdown",
      "source": [
        "Load the weights to presume training"
      ],
      "metadata": {
        "id": "ywNjnscOx2rh"
      }
    },
    {
      "cell_type": "code",
      "source": [
        "model.load_state_dict(torch.load(model_dir))\n",
        "#model.eval()"
      ],
      "metadata": {
        "colab": {
          "base_uri": "https://localhost:8080/"
        },
        "id": "OORIzjPRmcd9",
        "outputId": "760ebba7-ea95-45ee-ecd2-e3eaa0a12f73"
      },
      "execution_count": null,
      "outputs": [
        {
          "output_type": "execute_result",
          "data": {
            "text/plain": [
              "<All keys matched successfully>"
            ]
          },
          "metadata": {},
          "execution_count": 70
        }
      ]
    },
    {
      "cell_type": "code",
      "source": [
        "for param_tensor in model.state_dict():\n",
        "    print(param_tensor, \"\\t\", model.state_dict()[param_tensor].size())"
      ],
      "metadata": {
        "colab": {
          "base_uri": "https://localhost:8080/"
        },
        "id": "oTfQMQr-ef0e",
        "outputId": "b304b6ca-efe6-4e2a-be51-d96c13ea9a2d"
      },
      "execution_count": null,
      "outputs": [
        {
          "output_type": "stream",
          "name": "stdout",
          "text": [
            "_conv_stem.weight \t torch.Size([32, 3, 3, 3])\n",
            "_bn0.weight \t torch.Size([32])\n",
            "_bn0.bias \t torch.Size([32])\n",
            "_bn0.running_mean \t torch.Size([32])\n",
            "_bn0.running_var \t torch.Size([32])\n",
            "_bn0.num_batches_tracked \t torch.Size([])\n",
            "_blocks.0._depthwise_conv.weight \t torch.Size([32, 1, 3, 3])\n",
            "_blocks.0._bn1.weight \t torch.Size([32])\n",
            "_blocks.0._bn1.bias \t torch.Size([32])\n",
            "_blocks.0._bn1.running_mean \t torch.Size([32])\n",
            "_blocks.0._bn1.running_var \t torch.Size([32])\n",
            "_blocks.0._bn1.num_batches_tracked \t torch.Size([])\n",
            "_blocks.0._se_reduce.weight \t torch.Size([8, 32, 1, 1])\n",
            "_blocks.0._se_reduce.bias \t torch.Size([8])\n",
            "_blocks.0._se_expand.weight \t torch.Size([32, 8, 1, 1])\n",
            "_blocks.0._se_expand.bias \t torch.Size([32])\n",
            "_blocks.0._project_conv.weight \t torch.Size([16, 32, 1, 1])\n",
            "_blocks.0._bn2.weight \t torch.Size([16])\n",
            "_blocks.0._bn2.bias \t torch.Size([16])\n",
            "_blocks.0._bn2.running_mean \t torch.Size([16])\n",
            "_blocks.0._bn2.running_var \t torch.Size([16])\n",
            "_blocks.0._bn2.num_batches_tracked \t torch.Size([])\n",
            "_blocks.1._expand_conv.weight \t torch.Size([96, 16, 1, 1])\n",
            "_blocks.1._bn0.weight \t torch.Size([96])\n",
            "_blocks.1._bn0.bias \t torch.Size([96])\n",
            "_blocks.1._bn0.running_mean \t torch.Size([96])\n",
            "_blocks.1._bn0.running_var \t torch.Size([96])\n",
            "_blocks.1._bn0.num_batches_tracked \t torch.Size([])\n",
            "_blocks.1._depthwise_conv.weight \t torch.Size([96, 1, 3, 3])\n",
            "_blocks.1._bn1.weight \t torch.Size([96])\n",
            "_blocks.1._bn1.bias \t torch.Size([96])\n",
            "_blocks.1._bn1.running_mean \t torch.Size([96])\n",
            "_blocks.1._bn1.running_var \t torch.Size([96])\n",
            "_blocks.1._bn1.num_batches_tracked \t torch.Size([])\n",
            "_blocks.1._se_reduce.weight \t torch.Size([4, 96, 1, 1])\n",
            "_blocks.1._se_reduce.bias \t torch.Size([4])\n",
            "_blocks.1._se_expand.weight \t torch.Size([96, 4, 1, 1])\n",
            "_blocks.1._se_expand.bias \t torch.Size([96])\n",
            "_blocks.1._project_conv.weight \t torch.Size([24, 96, 1, 1])\n",
            "_blocks.1._bn2.weight \t torch.Size([24])\n",
            "_blocks.1._bn2.bias \t torch.Size([24])\n",
            "_blocks.1._bn2.running_mean \t torch.Size([24])\n",
            "_blocks.1._bn2.running_var \t torch.Size([24])\n",
            "_blocks.1._bn2.num_batches_tracked \t torch.Size([])\n",
            "_blocks.2._expand_conv.weight \t torch.Size([144, 24, 1, 1])\n",
            "_blocks.2._bn0.weight \t torch.Size([144])\n",
            "_blocks.2._bn0.bias \t torch.Size([144])\n",
            "_blocks.2._bn0.running_mean \t torch.Size([144])\n",
            "_blocks.2._bn0.running_var \t torch.Size([144])\n",
            "_blocks.2._bn0.num_batches_tracked \t torch.Size([])\n",
            "_blocks.2._depthwise_conv.weight \t torch.Size([144, 1, 3, 3])\n",
            "_blocks.2._bn1.weight \t torch.Size([144])\n",
            "_blocks.2._bn1.bias \t torch.Size([144])\n",
            "_blocks.2._bn1.running_mean \t torch.Size([144])\n",
            "_blocks.2._bn1.running_var \t torch.Size([144])\n",
            "_blocks.2._bn1.num_batches_tracked \t torch.Size([])\n",
            "_blocks.2._se_reduce.weight \t torch.Size([6, 144, 1, 1])\n",
            "_blocks.2._se_reduce.bias \t torch.Size([6])\n",
            "_blocks.2._se_expand.weight \t torch.Size([144, 6, 1, 1])\n",
            "_blocks.2._se_expand.bias \t torch.Size([144])\n",
            "_blocks.2._project_conv.weight \t torch.Size([24, 144, 1, 1])\n",
            "_blocks.2._bn2.weight \t torch.Size([24])\n",
            "_blocks.2._bn2.bias \t torch.Size([24])\n",
            "_blocks.2._bn2.running_mean \t torch.Size([24])\n",
            "_blocks.2._bn2.running_var \t torch.Size([24])\n",
            "_blocks.2._bn2.num_batches_tracked \t torch.Size([])\n",
            "_blocks.3._expand_conv.weight \t torch.Size([144, 24, 1, 1])\n",
            "_blocks.3._bn0.weight \t torch.Size([144])\n",
            "_blocks.3._bn0.bias \t torch.Size([144])\n",
            "_blocks.3._bn0.running_mean \t torch.Size([144])\n",
            "_blocks.3._bn0.running_var \t torch.Size([144])\n",
            "_blocks.3._bn0.num_batches_tracked \t torch.Size([])\n",
            "_blocks.3._depthwise_conv.weight \t torch.Size([144, 1, 5, 5])\n",
            "_blocks.3._bn1.weight \t torch.Size([144])\n",
            "_blocks.3._bn1.bias \t torch.Size([144])\n",
            "_blocks.3._bn1.running_mean \t torch.Size([144])\n",
            "_blocks.3._bn1.running_var \t torch.Size([144])\n",
            "_blocks.3._bn1.num_batches_tracked \t torch.Size([])\n",
            "_blocks.3._se_reduce.weight \t torch.Size([6, 144, 1, 1])\n",
            "_blocks.3._se_reduce.bias \t torch.Size([6])\n",
            "_blocks.3._se_expand.weight \t torch.Size([144, 6, 1, 1])\n",
            "_blocks.3._se_expand.bias \t torch.Size([144])\n",
            "_blocks.3._project_conv.weight \t torch.Size([40, 144, 1, 1])\n",
            "_blocks.3._bn2.weight \t torch.Size([40])\n",
            "_blocks.3._bn2.bias \t torch.Size([40])\n",
            "_blocks.3._bn2.running_mean \t torch.Size([40])\n",
            "_blocks.3._bn2.running_var \t torch.Size([40])\n",
            "_blocks.3._bn2.num_batches_tracked \t torch.Size([])\n",
            "_blocks.4._expand_conv.weight \t torch.Size([240, 40, 1, 1])\n",
            "_blocks.4._bn0.weight \t torch.Size([240])\n",
            "_blocks.4._bn0.bias \t torch.Size([240])\n",
            "_blocks.4._bn0.running_mean \t torch.Size([240])\n",
            "_blocks.4._bn0.running_var \t torch.Size([240])\n",
            "_blocks.4._bn0.num_batches_tracked \t torch.Size([])\n",
            "_blocks.4._depthwise_conv.weight \t torch.Size([240, 1, 5, 5])\n",
            "_blocks.4._bn1.weight \t torch.Size([240])\n",
            "_blocks.4._bn1.bias \t torch.Size([240])\n",
            "_blocks.4._bn1.running_mean \t torch.Size([240])\n",
            "_blocks.4._bn1.running_var \t torch.Size([240])\n",
            "_blocks.4._bn1.num_batches_tracked \t torch.Size([])\n",
            "_blocks.4._se_reduce.weight \t torch.Size([10, 240, 1, 1])\n",
            "_blocks.4._se_reduce.bias \t torch.Size([10])\n",
            "_blocks.4._se_expand.weight \t torch.Size([240, 10, 1, 1])\n",
            "_blocks.4._se_expand.bias \t torch.Size([240])\n",
            "_blocks.4._project_conv.weight \t torch.Size([40, 240, 1, 1])\n",
            "_blocks.4._bn2.weight \t torch.Size([40])\n",
            "_blocks.4._bn2.bias \t torch.Size([40])\n",
            "_blocks.4._bn2.running_mean \t torch.Size([40])\n",
            "_blocks.4._bn2.running_var \t torch.Size([40])\n",
            "_blocks.4._bn2.num_batches_tracked \t torch.Size([])\n",
            "_blocks.5._expand_conv.weight \t torch.Size([240, 40, 1, 1])\n",
            "_blocks.5._bn0.weight \t torch.Size([240])\n",
            "_blocks.5._bn0.bias \t torch.Size([240])\n",
            "_blocks.5._bn0.running_mean \t torch.Size([240])\n",
            "_blocks.5._bn0.running_var \t torch.Size([240])\n",
            "_blocks.5._bn0.num_batches_tracked \t torch.Size([])\n",
            "_blocks.5._depthwise_conv.weight \t torch.Size([240, 1, 3, 3])\n",
            "_blocks.5._bn1.weight \t torch.Size([240])\n",
            "_blocks.5._bn1.bias \t torch.Size([240])\n",
            "_blocks.5._bn1.running_mean \t torch.Size([240])\n",
            "_blocks.5._bn1.running_var \t torch.Size([240])\n",
            "_blocks.5._bn1.num_batches_tracked \t torch.Size([])\n",
            "_blocks.5._se_reduce.weight \t torch.Size([10, 240, 1, 1])\n",
            "_blocks.5._se_reduce.bias \t torch.Size([10])\n",
            "_blocks.5._se_expand.weight \t torch.Size([240, 10, 1, 1])\n",
            "_blocks.5._se_expand.bias \t torch.Size([240])\n",
            "_blocks.5._project_conv.weight \t torch.Size([80, 240, 1, 1])\n",
            "_blocks.5._bn2.weight \t torch.Size([80])\n",
            "_blocks.5._bn2.bias \t torch.Size([80])\n",
            "_blocks.5._bn2.running_mean \t torch.Size([80])\n",
            "_blocks.5._bn2.running_var \t torch.Size([80])\n",
            "_blocks.5._bn2.num_batches_tracked \t torch.Size([])\n",
            "_blocks.6._expand_conv.weight \t torch.Size([480, 80, 1, 1])\n",
            "_blocks.6._bn0.weight \t torch.Size([480])\n",
            "_blocks.6._bn0.bias \t torch.Size([480])\n",
            "_blocks.6._bn0.running_mean \t torch.Size([480])\n",
            "_blocks.6._bn0.running_var \t torch.Size([480])\n",
            "_blocks.6._bn0.num_batches_tracked \t torch.Size([])\n",
            "_blocks.6._depthwise_conv.weight \t torch.Size([480, 1, 3, 3])\n",
            "_blocks.6._bn1.weight \t torch.Size([480])\n",
            "_blocks.6._bn1.bias \t torch.Size([480])\n",
            "_blocks.6._bn1.running_mean \t torch.Size([480])\n",
            "_blocks.6._bn1.running_var \t torch.Size([480])\n",
            "_blocks.6._bn1.num_batches_tracked \t torch.Size([])\n",
            "_blocks.6._se_reduce.weight \t torch.Size([20, 480, 1, 1])\n",
            "_blocks.6._se_reduce.bias \t torch.Size([20])\n",
            "_blocks.6._se_expand.weight \t torch.Size([480, 20, 1, 1])\n",
            "_blocks.6._se_expand.bias \t torch.Size([480])\n",
            "_blocks.6._project_conv.weight \t torch.Size([80, 480, 1, 1])\n",
            "_blocks.6._bn2.weight \t torch.Size([80])\n",
            "_blocks.6._bn2.bias \t torch.Size([80])\n",
            "_blocks.6._bn2.running_mean \t torch.Size([80])\n",
            "_blocks.6._bn2.running_var \t torch.Size([80])\n",
            "_blocks.6._bn2.num_batches_tracked \t torch.Size([])\n",
            "_blocks.7._expand_conv.weight \t torch.Size([480, 80, 1, 1])\n",
            "_blocks.7._bn0.weight \t torch.Size([480])\n",
            "_blocks.7._bn0.bias \t torch.Size([480])\n",
            "_blocks.7._bn0.running_mean \t torch.Size([480])\n",
            "_blocks.7._bn0.running_var \t torch.Size([480])\n",
            "_blocks.7._bn0.num_batches_tracked \t torch.Size([])\n",
            "_blocks.7._depthwise_conv.weight \t torch.Size([480, 1, 3, 3])\n",
            "_blocks.7._bn1.weight \t torch.Size([480])\n",
            "_blocks.7._bn1.bias \t torch.Size([480])\n",
            "_blocks.7._bn1.running_mean \t torch.Size([480])\n",
            "_blocks.7._bn1.running_var \t torch.Size([480])\n",
            "_blocks.7._bn1.num_batches_tracked \t torch.Size([])\n",
            "_blocks.7._se_reduce.weight \t torch.Size([20, 480, 1, 1])\n",
            "_blocks.7._se_reduce.bias \t torch.Size([20])\n",
            "_blocks.7._se_expand.weight \t torch.Size([480, 20, 1, 1])\n",
            "_blocks.7._se_expand.bias \t torch.Size([480])\n",
            "_blocks.7._project_conv.weight \t torch.Size([80, 480, 1, 1])\n",
            "_blocks.7._bn2.weight \t torch.Size([80])\n",
            "_blocks.7._bn2.bias \t torch.Size([80])\n",
            "_blocks.7._bn2.running_mean \t torch.Size([80])\n",
            "_blocks.7._bn2.running_var \t torch.Size([80])\n",
            "_blocks.7._bn2.num_batches_tracked \t torch.Size([])\n",
            "_blocks.8._expand_conv.weight \t torch.Size([480, 80, 1, 1])\n",
            "_blocks.8._bn0.weight \t torch.Size([480])\n",
            "_blocks.8._bn0.bias \t torch.Size([480])\n",
            "_blocks.8._bn0.running_mean \t torch.Size([480])\n",
            "_blocks.8._bn0.running_var \t torch.Size([480])\n",
            "_blocks.8._bn0.num_batches_tracked \t torch.Size([])\n",
            "_blocks.8._depthwise_conv.weight \t torch.Size([480, 1, 5, 5])\n",
            "_blocks.8._bn1.weight \t torch.Size([480])\n",
            "_blocks.8._bn1.bias \t torch.Size([480])\n",
            "_blocks.8._bn1.running_mean \t torch.Size([480])\n",
            "_blocks.8._bn1.running_var \t torch.Size([480])\n",
            "_blocks.8._bn1.num_batches_tracked \t torch.Size([])\n",
            "_blocks.8._se_reduce.weight \t torch.Size([20, 480, 1, 1])\n",
            "_blocks.8._se_reduce.bias \t torch.Size([20])\n",
            "_blocks.8._se_expand.weight \t torch.Size([480, 20, 1, 1])\n",
            "_blocks.8._se_expand.bias \t torch.Size([480])\n",
            "_blocks.8._project_conv.weight \t torch.Size([112, 480, 1, 1])\n",
            "_blocks.8._bn2.weight \t torch.Size([112])\n",
            "_blocks.8._bn2.bias \t torch.Size([112])\n",
            "_blocks.8._bn2.running_mean \t torch.Size([112])\n",
            "_blocks.8._bn2.running_var \t torch.Size([112])\n",
            "_blocks.8._bn2.num_batches_tracked \t torch.Size([])\n",
            "_blocks.9._expand_conv.weight \t torch.Size([672, 112, 1, 1])\n",
            "_blocks.9._bn0.weight \t torch.Size([672])\n",
            "_blocks.9._bn0.bias \t torch.Size([672])\n",
            "_blocks.9._bn0.running_mean \t torch.Size([672])\n",
            "_blocks.9._bn0.running_var \t torch.Size([672])\n",
            "_blocks.9._bn0.num_batches_tracked \t torch.Size([])\n",
            "_blocks.9._depthwise_conv.weight \t torch.Size([672, 1, 5, 5])\n",
            "_blocks.9._bn1.weight \t torch.Size([672])\n",
            "_blocks.9._bn1.bias \t torch.Size([672])\n",
            "_blocks.9._bn1.running_mean \t torch.Size([672])\n",
            "_blocks.9._bn1.running_var \t torch.Size([672])\n",
            "_blocks.9._bn1.num_batches_tracked \t torch.Size([])\n",
            "_blocks.9._se_reduce.weight \t torch.Size([28, 672, 1, 1])\n",
            "_blocks.9._se_reduce.bias \t torch.Size([28])\n",
            "_blocks.9._se_expand.weight \t torch.Size([672, 28, 1, 1])\n",
            "_blocks.9._se_expand.bias \t torch.Size([672])\n",
            "_blocks.9._project_conv.weight \t torch.Size([112, 672, 1, 1])\n",
            "_blocks.9._bn2.weight \t torch.Size([112])\n",
            "_blocks.9._bn2.bias \t torch.Size([112])\n",
            "_blocks.9._bn2.running_mean \t torch.Size([112])\n",
            "_blocks.9._bn2.running_var \t torch.Size([112])\n",
            "_blocks.9._bn2.num_batches_tracked \t torch.Size([])\n",
            "_blocks.10._expand_conv.weight \t torch.Size([672, 112, 1, 1])\n",
            "_blocks.10._bn0.weight \t torch.Size([672])\n",
            "_blocks.10._bn0.bias \t torch.Size([672])\n",
            "_blocks.10._bn0.running_mean \t torch.Size([672])\n",
            "_blocks.10._bn0.running_var \t torch.Size([672])\n",
            "_blocks.10._bn0.num_batches_tracked \t torch.Size([])\n",
            "_blocks.10._depthwise_conv.weight \t torch.Size([672, 1, 5, 5])\n",
            "_blocks.10._bn1.weight \t torch.Size([672])\n",
            "_blocks.10._bn1.bias \t torch.Size([672])\n",
            "_blocks.10._bn1.running_mean \t torch.Size([672])\n",
            "_blocks.10._bn1.running_var \t torch.Size([672])\n",
            "_blocks.10._bn1.num_batches_tracked \t torch.Size([])\n",
            "_blocks.10._se_reduce.weight \t torch.Size([28, 672, 1, 1])\n",
            "_blocks.10._se_reduce.bias \t torch.Size([28])\n",
            "_blocks.10._se_expand.weight \t torch.Size([672, 28, 1, 1])\n",
            "_blocks.10._se_expand.bias \t torch.Size([672])\n",
            "_blocks.10._project_conv.weight \t torch.Size([112, 672, 1, 1])\n",
            "_blocks.10._bn2.weight \t torch.Size([112])\n",
            "_blocks.10._bn2.bias \t torch.Size([112])\n",
            "_blocks.10._bn2.running_mean \t torch.Size([112])\n",
            "_blocks.10._bn2.running_var \t torch.Size([112])\n",
            "_blocks.10._bn2.num_batches_tracked \t torch.Size([])\n",
            "_blocks.11._expand_conv.weight \t torch.Size([672, 112, 1, 1])\n",
            "_blocks.11._bn0.weight \t torch.Size([672])\n",
            "_blocks.11._bn0.bias \t torch.Size([672])\n",
            "_blocks.11._bn0.running_mean \t torch.Size([672])\n",
            "_blocks.11._bn0.running_var \t torch.Size([672])\n",
            "_blocks.11._bn0.num_batches_tracked \t torch.Size([])\n",
            "_blocks.11._depthwise_conv.weight \t torch.Size([672, 1, 5, 5])\n",
            "_blocks.11._bn1.weight \t torch.Size([672])\n",
            "_blocks.11._bn1.bias \t torch.Size([672])\n",
            "_blocks.11._bn1.running_mean \t torch.Size([672])\n",
            "_blocks.11._bn1.running_var \t torch.Size([672])\n",
            "_blocks.11._bn1.num_batches_tracked \t torch.Size([])\n",
            "_blocks.11._se_reduce.weight \t torch.Size([28, 672, 1, 1])\n",
            "_blocks.11._se_reduce.bias \t torch.Size([28])\n",
            "_blocks.11._se_expand.weight \t torch.Size([672, 28, 1, 1])\n",
            "_blocks.11._se_expand.bias \t torch.Size([672])\n",
            "_blocks.11._project_conv.weight \t torch.Size([192, 672, 1, 1])\n",
            "_blocks.11._bn2.weight \t torch.Size([192])\n",
            "_blocks.11._bn2.bias \t torch.Size([192])\n",
            "_blocks.11._bn2.running_mean \t torch.Size([192])\n",
            "_blocks.11._bn2.running_var \t torch.Size([192])\n",
            "_blocks.11._bn2.num_batches_tracked \t torch.Size([])\n",
            "_blocks.12._expand_conv.weight \t torch.Size([1152, 192, 1, 1])\n",
            "_blocks.12._bn0.weight \t torch.Size([1152])\n",
            "_blocks.12._bn0.bias \t torch.Size([1152])\n",
            "_blocks.12._bn0.running_mean \t torch.Size([1152])\n",
            "_blocks.12._bn0.running_var \t torch.Size([1152])\n",
            "_blocks.12._bn0.num_batches_tracked \t torch.Size([])\n",
            "_blocks.12._depthwise_conv.weight \t torch.Size([1152, 1, 5, 5])\n",
            "_blocks.12._bn1.weight \t torch.Size([1152])\n",
            "_blocks.12._bn1.bias \t torch.Size([1152])\n",
            "_blocks.12._bn1.running_mean \t torch.Size([1152])\n",
            "_blocks.12._bn1.running_var \t torch.Size([1152])\n",
            "_blocks.12._bn1.num_batches_tracked \t torch.Size([])\n",
            "_blocks.12._se_reduce.weight \t torch.Size([48, 1152, 1, 1])\n",
            "_blocks.12._se_reduce.bias \t torch.Size([48])\n",
            "_blocks.12._se_expand.weight \t torch.Size([1152, 48, 1, 1])\n",
            "_blocks.12._se_expand.bias \t torch.Size([1152])\n",
            "_blocks.12._project_conv.weight \t torch.Size([192, 1152, 1, 1])\n",
            "_blocks.12._bn2.weight \t torch.Size([192])\n",
            "_blocks.12._bn2.bias \t torch.Size([192])\n",
            "_blocks.12._bn2.running_mean \t torch.Size([192])\n",
            "_blocks.12._bn2.running_var \t torch.Size([192])\n",
            "_blocks.12._bn2.num_batches_tracked \t torch.Size([])\n",
            "_blocks.13._expand_conv.weight \t torch.Size([1152, 192, 1, 1])\n",
            "_blocks.13._bn0.weight \t torch.Size([1152])\n",
            "_blocks.13._bn0.bias \t torch.Size([1152])\n",
            "_blocks.13._bn0.running_mean \t torch.Size([1152])\n",
            "_blocks.13._bn0.running_var \t torch.Size([1152])\n",
            "_blocks.13._bn0.num_batches_tracked \t torch.Size([])\n",
            "_blocks.13._depthwise_conv.weight \t torch.Size([1152, 1, 5, 5])\n",
            "_blocks.13._bn1.weight \t torch.Size([1152])\n",
            "_blocks.13._bn1.bias \t torch.Size([1152])\n",
            "_blocks.13._bn1.running_mean \t torch.Size([1152])\n",
            "_blocks.13._bn1.running_var \t torch.Size([1152])\n",
            "_blocks.13._bn1.num_batches_tracked \t torch.Size([])\n",
            "_blocks.13._se_reduce.weight \t torch.Size([48, 1152, 1, 1])\n",
            "_blocks.13._se_reduce.bias \t torch.Size([48])\n",
            "_blocks.13._se_expand.weight \t torch.Size([1152, 48, 1, 1])\n",
            "_blocks.13._se_expand.bias \t torch.Size([1152])\n",
            "_blocks.13._project_conv.weight \t torch.Size([192, 1152, 1, 1])\n",
            "_blocks.13._bn2.weight \t torch.Size([192])\n",
            "_blocks.13._bn2.bias \t torch.Size([192])\n",
            "_blocks.13._bn2.running_mean \t torch.Size([192])\n",
            "_blocks.13._bn2.running_var \t torch.Size([192])\n",
            "_blocks.13._bn2.num_batches_tracked \t torch.Size([])\n",
            "_blocks.14._expand_conv.weight \t torch.Size([1152, 192, 1, 1])\n",
            "_blocks.14._bn0.weight \t torch.Size([1152])\n",
            "_blocks.14._bn0.bias \t torch.Size([1152])\n",
            "_blocks.14._bn0.running_mean \t torch.Size([1152])\n",
            "_blocks.14._bn0.running_var \t torch.Size([1152])\n",
            "_blocks.14._bn0.num_batches_tracked \t torch.Size([])\n",
            "_blocks.14._depthwise_conv.weight \t torch.Size([1152, 1, 5, 5])\n",
            "_blocks.14._bn1.weight \t torch.Size([1152])\n",
            "_blocks.14._bn1.bias \t torch.Size([1152])\n",
            "_blocks.14._bn1.running_mean \t torch.Size([1152])\n",
            "_blocks.14._bn1.running_var \t torch.Size([1152])\n",
            "_blocks.14._bn1.num_batches_tracked \t torch.Size([])\n",
            "_blocks.14._se_reduce.weight \t torch.Size([48, 1152, 1, 1])\n",
            "_blocks.14._se_reduce.bias \t torch.Size([48])\n",
            "_blocks.14._se_expand.weight \t torch.Size([1152, 48, 1, 1])\n",
            "_blocks.14._se_expand.bias \t torch.Size([1152])\n",
            "_blocks.14._project_conv.weight \t torch.Size([192, 1152, 1, 1])\n",
            "_blocks.14._bn2.weight \t torch.Size([192])\n",
            "_blocks.14._bn2.bias \t torch.Size([192])\n",
            "_blocks.14._bn2.running_mean \t torch.Size([192])\n",
            "_blocks.14._bn2.running_var \t torch.Size([192])\n",
            "_blocks.14._bn2.num_batches_tracked \t torch.Size([])\n",
            "_blocks.15._expand_conv.weight \t torch.Size([1152, 192, 1, 1])\n",
            "_blocks.15._bn0.weight \t torch.Size([1152])\n",
            "_blocks.15._bn0.bias \t torch.Size([1152])\n",
            "_blocks.15._bn0.running_mean \t torch.Size([1152])\n",
            "_blocks.15._bn0.running_var \t torch.Size([1152])\n",
            "_blocks.15._bn0.num_batches_tracked \t torch.Size([])\n",
            "_blocks.15._depthwise_conv.weight \t torch.Size([1152, 1, 3, 3])\n",
            "_blocks.15._bn1.weight \t torch.Size([1152])\n",
            "_blocks.15._bn1.bias \t torch.Size([1152])\n",
            "_blocks.15._bn1.running_mean \t torch.Size([1152])\n",
            "_blocks.15._bn1.running_var \t torch.Size([1152])\n",
            "_blocks.15._bn1.num_batches_tracked \t torch.Size([])\n",
            "_blocks.15._se_reduce.weight \t torch.Size([48, 1152, 1, 1])\n",
            "_blocks.15._se_reduce.bias \t torch.Size([48])\n",
            "_blocks.15._se_expand.weight \t torch.Size([1152, 48, 1, 1])\n",
            "_blocks.15._se_expand.bias \t torch.Size([1152])\n",
            "_blocks.15._project_conv.weight \t torch.Size([320, 1152, 1, 1])\n",
            "_blocks.15._bn2.weight \t torch.Size([320])\n",
            "_blocks.15._bn2.bias \t torch.Size([320])\n",
            "_blocks.15._bn2.running_mean \t torch.Size([320])\n",
            "_blocks.15._bn2.running_var \t torch.Size([320])\n",
            "_blocks.15._bn2.num_batches_tracked \t torch.Size([])\n",
            "_conv_head.weight \t torch.Size([1280, 320, 1, 1])\n",
            "_bn1.weight \t torch.Size([1280])\n",
            "_bn1.bias \t torch.Size([1280])\n",
            "_bn1.running_mean \t torch.Size([1280])\n",
            "_bn1.running_var \t torch.Size([1280])\n",
            "_bn1.num_batches_tracked \t torch.Size([])\n",
            "_fc.weight \t torch.Size([3, 1280])\n",
            "_fc.bias \t torch.Size([3])\n"
          ]
        }
      ]
    },
    {
      "cell_type": "code",
      "source": [
        "def print_num_params(model, display_all_modules=False):\n",
        "    total_num_params = 0\n",
        "    for n, p in model.named_parameters():\n",
        "        num_params = 1\n",
        "        for s in p.shape:\n",
        "            num_params *= s\n",
        "        if display_all_modules: print(\"{}: {}\".format(n, num_params))\n",
        "        total_num_params += num_params\n",
        "    print(\"-\" * 50)\n",
        "    print(\"Total number of parameters: \", total_num_params)\n",
        "    \n",
        "print_num_params(model)"
      ],
      "metadata": {
        "colab": {
          "base_uri": "https://localhost:8080/"
        },
        "id": "lVM5d5nMJmkM",
        "outputId": "b550a200-fb75-4a0e-f3aa-12d4d68e3bdd"
      },
      "execution_count": null,
      "outputs": [
        {
          "output_type": "stream",
          "name": "stdout",
          "text": [
            "--------------------------------------------------\n",
            "Total number of parameters:  4011391\n"
          ]
        }
      ]
    },
    {
      "cell_type": "markdown",
      "source": [
        "## Training"
      ],
      "metadata": {
        "id": "o_78kkZm-kMm"
      }
    },
    {
      "cell_type": "code",
      "source": [
        "import torch.optim as optim\n",
        "\n",
        "optimizer = optim.SGD(model.parameters(), lr=1e-3, momentum=0.9, weight_decay= 5e-4)\n",
        "history = train(model, optimizer, epochs=1)"
      ],
      "metadata": {
        "id": "d-1L8eJDztbC"
      },
      "execution_count": null,
      "outputs": []
    },
    {
      "cell_type": "markdown",
      "source": [
        "## Visualize"
      ],
      "metadata": {
        "id": "PrsSQz4n6jZ_"
      }
    },
    {
      "cell_type": "code",
      "source": [
        "loss_train, val_acc = history\n",
        "len(loss_train), len(val_acc)"
      ],
      "metadata": {
        "colab": {
          "base_uri": "https://localhost:8080/"
        },
        "id": "wuchUNdGdi9X",
        "outputId": "cd123b23-2930-453f-eaf6-8dc4ca87045c"
      },
      "execution_count": null,
      "outputs": [
        {
          "output_type": "execute_result",
          "data": {
            "text/plain": [
              "(21, 21)"
            ]
          },
          "metadata": {},
          "execution_count": 72
        }
      ]
    },
    {
      "cell_type": "code",
      "source": [
        "plt.figure(figsize=(10,4))\n",
        "plt.subplot(1,2,1)\n",
        "plt.plot(loss_train, label=\"Training loss\", color=\"blue\", linestyle=\"dashed\")\n",
        "plt.xlabel(\"Epoch\")\n",
        "plt.ylabel(\"Loss\")\n",
        "plt.legend()\n",
        "plt.subplot(1,2,2)\n",
        "plt.plot(val_acc, label=\"Validation accuracy\", color=\"blue\", linestyle=\"dashed\")\n",
        "plt.xlabel(\"Epoch\")\n",
        "plt.ylabel(\"Accuracy\")\n",
        "plt.legend()\n",
        "plt.show()"
      ],
      "metadata": {
        "colab": {
          "base_uri": "https://localhost:8080/",
          "height": 279
        },
        "id": "K1iNyhP1cXNM",
        "outputId": "923b9a36-d9c4-40e3-a3ae-91cf3f2fff89"
      },
      "execution_count": null,
      "outputs": [
        {
          "output_type": "display_data",
          "data": {
            "text/plain": [
              "<Figure size 720x288 with 2 Axes>"
            ],
            "image/png": "[encoded data removed]"
          },
          "metadata": {
            "needs_background": "light"
          }
        }
      ]
    },
    {
      "cell_type": "code",
      "source": [
        "check_performance(val_loader, model)"
      ],
      "metadata": {
        "colab": {
          "base_uri": "https://localhost:8080/"
        },
        "id": "C7pcoVvN3Bc5",
        "outputId": "498fda49-00cd-4c1c-87e5-53ffcf53e57d"
      },
      "execution_count": null,
      "outputs": [
        {
          "output_type": "stream",
          "name": "stdout",
          "text": [
            "              precision    recall  f1-score   support\n",
            "\n",
            "           0     0.9699    0.9539    0.9619       304\n",
            "           1     0.9048    0.9652    0.9340       374\n",
            "           2     0.9503    0.8913    0.9199       322\n",
            "\n",
            "    accuracy                         0.9380      1000\n",
            "   macro avg     0.9417    0.9368    0.9386      1000\n",
            "weighted avg     0.9392    0.9380    0.9379      1000\n",
            "\n"
          ]
        }
      ]
    },
    {
      "cell_type": "markdown",
      "source": [
        "## Save model"
      ],
      "metadata": {
        "id": "E0zYNWWo6TVk"
      }
    },
    {
      "cell_type": "code",
      "source": [
        "model_dir = \"/content/drive/MyDrive/Colab Notebooks/COMP4471/Project/efficientnet-b0-ckpt3.pth\""
      ],
      "metadata": {
        "id": "FTwqfaQI6YfO"
      },
      "execution_count": null,
      "outputs": []
    },
    {
      "cell_type": "code",
      "source": [
        "torch.save(model.state_dict(), model_dir)"
      ],
      "metadata": {
        "id": "IhrxUSi93PNd"
      },
      "execution_count": null,
      "outputs": []
    },
    {
      "cell_type": "markdown",
      "source": [
        "# Load model"
      ],
      "metadata": {
        "id": "jhiDuniw6WEo"
      }
    },
    {
      "cell_type": "code",
      "source": [
        "model_dir = \"/content/drive/MyDrive/Colab Notebooks/COMP4471/Project/efficientnet-b0-ckpt3.pth\""
      ],
      "metadata": {
        "id": "wZPpwufh6roa"
      },
      "execution_count": null,
      "outputs": []
    },
    {
      "cell_type": "code",
      "source": [
        "model = EfficientNet.from_name('efficientnet-b0', num_classes=3)"
      ],
      "metadata": {
        "id": "QTrILtxi0EzG"
      },
      "execution_count": null,
      "outputs": []
    },
    {
      "cell_type": "code",
      "source": [
        "model.load_state_dict(torch.load(model_dir))\n",
        "#model.eval()"
      ],
      "metadata": {
        "colab": {
          "base_uri": "https://localhost:8080/"
        },
        "id": "p9u07ZDZ3Mt0",
        "outputId": "4d042156-b51e-454d-8faa-f8f529304828"
      },
      "execution_count": null,
      "outputs": [
        {
          "output_type": "execute_result",
          "data": {
            "text/plain": [
              "<All keys matched successfully>"
            ]
          },
          "metadata": {},
          "execution_count": 79
        }
      ]
    },
    {
      "cell_type": "code",
      "source": [
        "check_performance(val_loader, model.to(device))"
      ],
      "metadata": {
        "colab": {
          "base_uri": "https://localhost:8080/"
        },
        "id": "lYjQOJDh1qVZ",
        "outputId": "11ad939d-404f-4cad-fd11-6e87e823f018"
      },
      "execution_count": null,
      "outputs": [
        {
          "output_type": "stream",
          "name": "stdout",
          "text": [
            "              precision    recall  f1-score   support\n",
            "\n",
            "           0     0.9699    0.9539    0.9619       304\n",
            "           1     0.9048    0.9652    0.9340       374\n",
            "           2     0.9503    0.8913    0.9199       322\n",
            "\n",
            "    accuracy                         0.9380      1000\n",
            "   macro avg     0.9417    0.9368    0.9386      1000\n",
            "weighted avg     0.9392    0.9380    0.9379      1000\n",
            "\n"
          ]
        }
      ]
    },
    {
      "cell_type": "markdown",
      "source": [
        "## Predict some examples"
      ],
      "metadata": {
        "id": "1AUo-_Qm6Z0a"
      }
    },
    {
      "cell_type": "code",
      "source": [
        "%%time\n",
        "print(\"0: with mask, 1: incorrect_mask, 2: without_mask\")\n",
        "# get some random training images\n",
        "dataiter = iter(val_loader)\n",
        "images, labels = next(dataiter)\n",
        "\n",
        "# show images\n",
        "imshow(make_grid(images))\n",
        "\n",
        "# print predictions\n",
        "images = images.to(device=device, dtype=dtype)  # move to device, e.g. GPU\n",
        "scores = model(images)\n",
        "_, preds = scores.max(1)\n",
        "print(\"Predict:\", preds.tolist())\n",
        "\n",
        "# print labels\n",
        "print(\"Labels:\",labels.squeeze(1).tolist())"
      ],
      "metadata": {
        "id": "9Ww-Almd6cW8",
        "colab": {
          "base_uri": "https://localhost:8080/",
          "height": 225
        },
        "outputId": "9ed1c7a9-f20e-44ff-ebb6-af86f39c5713"
      },
      "execution_count": null,
      "outputs": [
        {
          "output_type": "stream",
          "name": "stdout",
          "text": [
            "0: with mask, 1: incorrect_mask, 2: without_mask\n"
          ]
        },
        {
          "output_type": "display_data",
          "data": {
            "text/plain": [
              "<Figure size 432x288 with 1 Axes>"
            ],
            "image/png": "[encoded data removed]"
          },
          "metadata": {
            "needs_background": "light"
          }
        },
        {
          "output_type": "stream",
          "name": "stdout",
          "text": [
            "Predict: [2, 1, 1, 1, 1, 1, 1, 2, 1, 1, 2, 1, 2, 1, 1, 1]\n",
            "Labels: [2, 1, 1, 1, 1, 1, 2, 2, 1, 1, 2, 0, 2, 1, 1, 1]\n",
            "CPU times: user 568 ms, sys: 79.7 ms, total: 648 ms\n",
            "Wall time: 691 ms\n"
          ]
        }
      ]
    },
    {
      "cell_type": "markdown",
      "source": [
        "## Predict on the test set"
      ],
      "metadata": {
        "id": "GMKNXyUn6cyP"
      }
    },
    {
      "cell_type": "markdown",
      "source": [
        "Run once for reporting the final pipeline"
      ],
      "metadata": {
        "id": "5OPGTFpF5seb"
      }
    },
    {
      "cell_type": "code",
      "source": [
        "check_performance(test_loader, model)"
      ],
      "metadata": {
        "id": "AaLwkfmrwiyF"
      },
      "execution_count": null,
      "outputs": []
    }
  ]
}